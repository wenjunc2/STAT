{
 "cells": [
  {
   "cell_type": "code",
   "execution_count": 21,
   "id": "5a1d974f",
   "metadata": {
    "id": "5a1d974f"
   },
   "outputs": [],
   "source": [
    "import pandas as pd\n",
    "import numpy as np\n",
    "\n",
    "from sklearn.datasets import make_classification\n",
    "from sklearn.model_selection import cross_val_score\n",
    "\n",
    "from sklearn import metrics\n",
    "\n",
    "import time"
   ]
  },
  {
   "cell_type": "code",
   "execution_count": 22,
   "id": "fcd100f6",
   "metadata": {
    "id": "fcd100f6"
   },
   "outputs": [],
   "source": [
    "# import data\n",
    "df_train = pd.read_csv('fashion-mnist_train.csv')\n",
    "df_test = pd.read_csv('fashion-mnist_test.csv')"
   ]
  },
  {
   "cell_type": "code",
   "execution_count": 23,
   "id": "TOvvHQFVuVKU",
   "metadata": {
    "id": "TOvvHQFVuVKU"
   },
   "outputs": [],
   "source": [
    "train_x = df_train.drop(['label'], axis = 1)\n",
    "train_labels = df_train['label']\n",
    "test_x = df_test.drop(['label'], axis = 1)\n",
    "test_labels = df_test['label']"
   ]
  },
  {
   "cell_type": "markdown",
   "id": "b89cfd2d",
   "metadata": {
    "id": "b89cfd2d"
   },
   "source": [
    "# LightGBM"
   ]
  },
  {
   "cell_type": "code",
   "execution_count": 24,
   "id": "1c550f1b",
   "metadata": {},
   "outputs": [],
   "source": [
    "#conda install -c conda-forge lightgbm"
   ]
  },
  {
   "cell_type": "code",
   "execution_count": 25,
   "id": "38a2fbf7",
   "metadata": {
    "id": "38a2fbf7"
   },
   "outputs": [],
   "source": [
    "from lightgbm import LGBMClassifier"
   ]
  },
  {
   "cell_type": "code",
   "execution_count": 28,
   "id": "542b30b3",
   "metadata": {
    "id": "542b30b3"
   },
   "outputs": [],
   "source": [
    "lgb_model = LGBMClassifier(objective='multiclass',path_smooth = 0.5)"
   ]
  },
  {
   "cell_type": "code",
   "execution_count": 29,
   "id": "b4059e5e",
   "metadata": {
    "id": "b4059e5e",
    "outputId": "96bcd8de-1b6b-41fa-f71b-3f3b431365c9"
   },
   "outputs": [
    {
     "name": "stderr",
     "output_type": "stream",
     "text": [
      "D:\\Anaconda\\lib\\site-packages\\lightgbm\\basic.py:2065: UserWarning: Using categorical_feature in Dataset.\n",
      "  _log_warning('Using categorical_feature in Dataset.')\n"
     ]
    },
    {
     "name": "stdout",
     "output_type": "stream",
     "text": [
      "lightGBM Time: 4.43 minute\n"
     ]
    }
   ],
   "source": [
    "start1 = time.time()\n",
    "\n",
    "lgb_model.fit(train_x,train_labels,categorical_feature=[0,3])\n",
    "\n",
    "end1 = time.time()\n",
    "lightGBM_time = end1-start1\n",
    "print(\"lightGBM Time: {:0.2f} minute\".format(lightGBM_time/60.0))"
   ]
  },
  {
   "cell_type": "code",
   "execution_count": 30,
   "id": "256ee1d6",
   "metadata": {
    "id": "256ee1d6",
    "outputId": "afef0e26-fe74-4481-8dba-05cad51782ca"
   },
   "outputs": [
    {
     "name": "stdout",
     "output_type": "stream",
     "text": [
      "              precision    recall  f1-score   support\n",
      "\n",
      "           0       0.84      0.87      0.85      1000\n",
      "           1       0.99      0.98      0.99      1000\n",
      "           2       0.84      0.84      0.84      1000\n",
      "           3       0.91      0.92      0.92      1000\n",
      "           4       0.85      0.87      0.86      1000\n",
      "           5       0.99      0.96      0.98      1000\n",
      "           6       0.75      0.71      0.73      1000\n",
      "           7       0.95      0.97      0.96      1000\n",
      "           8       0.98      0.98      0.98      1000\n",
      "           9       0.96      0.97      0.97      1000\n",
      "\n",
      "    accuracy                           0.91     10000\n",
      "   macro avg       0.91      0.91      0.91     10000\n",
      "weighted avg       0.91      0.91      0.91     10000\n",
      "\n"
     ]
    }
   ],
   "source": [
    "expected_y  = test_labels\n",
    "predicted_y = lgb_model.predict(test_x)\n",
    "lightGBM_pred_y = predicted_y\n",
    "print(metrics.classification_report(expected_y, predicted_y))"
   ]
  },
  {
   "cell_type": "code",
   "execution_count": 10,
   "id": "ef067c38",
   "metadata": {},
   "outputs": [],
   "source": [
    "# Light GBM\n",
    "# accuracy changed "
   ]
  },
  {
   "cell_type": "code",
   "execution_count": null,
   "id": "21fb155a",
   "metadata": {
    "id": "21fb155a"
   },
   "outputs": [],
   "source": [
    "# dont run this part, i'm still tuning\n",
    "err_list = []\n",
    "for i in np.arange(0.0, 1.0, 0.1):\n",
    "    model = LGBMClassifier(objective='multiclass',path_smooth = i)\n",
    "    model.fit(X_train,y_train,categorical_feature=[0,3])\n",
    "    predictions = model.predict(X_test)\n",
    "    error = sum(predictions!=y_test)/len(y_test)\n",
    "    err_list.append(error)\n",
    "err_list"
   ]
  },
  {
   "cell_type": "code",
   "execution_count": null,
   "id": "98c79bed",
   "metadata": {
    "id": "98c79bed"
   },
   "outputs": [],
   "source": [
    "# dont run this part, i'm still tuning\n",
    "err_list = []\n",
    "for i in np.arange(0.0, 1.0, 0.1):\n",
    "    model = LGBMClassifier(objective='multiclass',path_smooth = i)\n",
    "    model.fit(X_train,y_train,categorical_feature=[0,3])\n",
    "    predictions = model.predict(X_test)\n",
    "    error = sum(predictions!=y_test)/len(y_test)\n",
    "    err_list.append(error)\n",
    "err_list"
   ]
  },
  {
   "cell_type": "markdown",
   "id": "23429c60",
   "metadata": {
    "id": "23429c60"
   },
   "source": [
    "# LDA"
   ]
  },
  {
   "cell_type": "code",
   "execution_count": 31,
   "id": "abfbf016",
   "metadata": {
    "id": "abfbf016"
   },
   "outputs": [],
   "source": [
    "from sklearn.discriminant_analysis import LinearDiscriminantAnalysis as LDA"
   ]
  },
  {
   "cell_type": "code",
   "execution_count": 32,
   "id": "8a6b7f7a",
   "metadata": {
    "id": "8a6b7f7a"
   },
   "outputs": [],
   "source": [
    "lda = LDA(n_components=9)"
   ]
  },
  {
   "cell_type": "code",
   "execution_count": 33,
   "id": "f4823097",
   "metadata": {
    "id": "f4823097",
    "outputId": "b6762dbf-56fa-4da7-d629-c1a92db3dd72"
   },
   "outputs": [
    {
     "name": "stdout",
     "output_type": "stream",
     "text": [
      "              precision    recall  f1-score   support\n",
      "\n",
      "           0       0.80      0.77      0.78      1000\n",
      "           1       0.99      0.94      0.97      1000\n",
      "           2       0.76      0.71      0.73      1000\n",
      "           3       0.82      0.87      0.85      1000\n",
      "           4       0.75      0.79      0.77      1000\n",
      "           5       0.86      0.89      0.88      1000\n",
      "           6       0.59      0.60      0.60      1000\n",
      "           7       0.87      0.85      0.86      1000\n",
      "           8       0.94      0.92      0.93      1000\n",
      "           9       0.90      0.91      0.90      1000\n",
      "\n",
      "    accuracy                           0.83     10000\n",
      "   macro avg       0.83      0.83      0.83     10000\n",
      "weighted avg       0.83      0.83      0.83     10000\n",
      "\n",
      "LDA Time: 0.28 minute\n"
     ]
    }
   ],
   "source": [
    "start2 = time.time()\n",
    "\n",
    "expected_y  = test_labels\n",
    "lda_model = lda.fit(train_x, train_labels)\n",
    "predicted_y = lda_model.predict(test_x)\n",
    "lda_pred_y = predicted_y\n",
    "print(metrics.classification_report(expected_y, predicted_y))\n",
    "\n",
    "end2 = time.time()\n",
    "LDA_time = end2-start2\n",
    "print(\"LDA Time: {:0.2f} minute\".format(LDA_time/60.0))"
   ]
  },
  {
   "cell_type": "code",
   "execution_count": 34,
   "id": "435896e9",
   "metadata": {
    "id": "435896e9",
    "outputId": "c20ab0a7-951d-431a-a487-9cfcb320e86f"
   },
   "outputs": [
    {
     "data": {
      "text/html": [
       "<div>\n",
       "<style scoped>\n",
       "    .dataframe tbody tr th:only-of-type {\n",
       "        vertical-align: middle;\n",
       "    }\n",
       "\n",
       "    .dataframe tbody tr th {\n",
       "        vertical-align: top;\n",
       "    }\n",
       "\n",
       "    .dataframe thead th {\n",
       "        text-align: right;\n",
       "    }\n",
       "</style>\n",
       "<table border=\"1\" class=\"dataframe\">\n",
       "  <thead>\n",
       "    <tr style=\"text-align: right;\">\n",
       "      <th></th>\n",
       "      <th>precision</th>\n",
       "      <th>recall</th>\n",
       "      <th>f1-score</th>\n",
       "      <th>support</th>\n",
       "    </tr>\n",
       "  </thead>\n",
       "  <tbody>\n",
       "    <tr>\n",
       "      <th>0</th>\n",
       "      <td>0.801670</td>\n",
       "      <td>0.7680</td>\n",
       "      <td>0.784474</td>\n",
       "      <td>1000.0000</td>\n",
       "    </tr>\n",
       "    <tr>\n",
       "      <th>1</th>\n",
       "      <td>0.994709</td>\n",
       "      <td>0.9400</td>\n",
       "      <td>0.966581</td>\n",
       "      <td>1000.0000</td>\n",
       "    </tr>\n",
       "    <tr>\n",
       "      <th>2</th>\n",
       "      <td>0.755814</td>\n",
       "      <td>0.7150</td>\n",
       "      <td>0.734841</td>\n",
       "      <td>1000.0000</td>\n",
       "    </tr>\n",
       "    <tr>\n",
       "      <th>3</th>\n",
       "      <td>0.821698</td>\n",
       "      <td>0.8710</td>\n",
       "      <td>0.845631</td>\n",
       "      <td>1000.0000</td>\n",
       "    </tr>\n",
       "    <tr>\n",
       "      <th>4</th>\n",
       "      <td>0.746212</td>\n",
       "      <td>0.7880</td>\n",
       "      <td>0.766537</td>\n",
       "      <td>1000.0000</td>\n",
       "    </tr>\n",
       "    <tr>\n",
       "      <th>5</th>\n",
       "      <td>0.862403</td>\n",
       "      <td>0.8900</td>\n",
       "      <td>0.875984</td>\n",
       "      <td>1000.0000</td>\n",
       "    </tr>\n",
       "    <tr>\n",
       "      <th>6</th>\n",
       "      <td>0.585673</td>\n",
       "      <td>0.6050</td>\n",
       "      <td>0.595180</td>\n",
       "      <td>1000.0000</td>\n",
       "    </tr>\n",
       "    <tr>\n",
       "      <th>7</th>\n",
       "      <td>0.871560</td>\n",
       "      <td>0.8550</td>\n",
       "      <td>0.863200</td>\n",
       "      <td>1000.0000</td>\n",
       "    </tr>\n",
       "    <tr>\n",
       "      <th>8</th>\n",
       "      <td>0.937564</td>\n",
       "      <td>0.9160</td>\n",
       "      <td>0.926657</td>\n",
       "      <td>1000.0000</td>\n",
       "    </tr>\n",
       "    <tr>\n",
       "      <th>9</th>\n",
       "      <td>0.897233</td>\n",
       "      <td>0.9080</td>\n",
       "      <td>0.902584</td>\n",
       "      <td>1000.0000</td>\n",
       "    </tr>\n",
       "    <tr>\n",
       "      <th>accuracy</th>\n",
       "      <td>0.825600</td>\n",
       "      <td>0.8256</td>\n",
       "      <td>0.825600</td>\n",
       "      <td>0.8256</td>\n",
       "    </tr>\n",
       "    <tr>\n",
       "      <th>macro avg</th>\n",
       "      <td>0.827454</td>\n",
       "      <td>0.8256</td>\n",
       "      <td>0.826167</td>\n",
       "      <td>10000.0000</td>\n",
       "    </tr>\n",
       "    <tr>\n",
       "      <th>weighted avg</th>\n",
       "      <td>0.827454</td>\n",
       "      <td>0.8256</td>\n",
       "      <td>0.826167</td>\n",
       "      <td>10000.0000</td>\n",
       "    </tr>\n",
       "  </tbody>\n",
       "</table>\n",
       "</div>"
      ],
      "text/plain": [
       "              precision  recall  f1-score     support\n",
       "0              0.801670  0.7680  0.784474   1000.0000\n",
       "1              0.994709  0.9400  0.966581   1000.0000\n",
       "2              0.755814  0.7150  0.734841   1000.0000\n",
       "3              0.821698  0.8710  0.845631   1000.0000\n",
       "4              0.746212  0.7880  0.766537   1000.0000\n",
       "5              0.862403  0.8900  0.875984   1000.0000\n",
       "6              0.585673  0.6050  0.595180   1000.0000\n",
       "7              0.871560  0.8550  0.863200   1000.0000\n",
       "8              0.937564  0.9160  0.926657   1000.0000\n",
       "9              0.897233  0.9080  0.902584   1000.0000\n",
       "accuracy       0.825600  0.8256  0.825600      0.8256\n",
       "macro avg      0.827454  0.8256  0.826167  10000.0000\n",
       "weighted avg   0.827454  0.8256  0.826167  10000.0000"
      ]
     },
     "execution_count": 34,
     "metadata": {},
     "output_type": "execute_result"
    }
   ],
   "source": [
    "report = metrics.classification_report(expected_y, predicted_y, output_dict=True)\n",
    "pd.DataFrame(report).transpose()"
   ]
  },
  {
   "cell_type": "markdown",
   "id": "KVwz6KXq13Sn",
   "metadata": {
    "id": "KVwz6KXq13Sn"
   },
   "source": [
    "# Random Forest"
   ]
  },
  {
   "cell_type": "code",
   "execution_count": 35,
   "id": "mItU-cie15ig",
   "metadata": {
    "id": "mItU-cie15ig"
   },
   "outputs": [],
   "source": [
    "#start3 = time.time()\n",
    "\n",
    "from sklearn.ensemble import RandomForestClassifier\n",
    "random_forest = RandomForestClassifier(criterion='entropy', max_depth=70, n_estimators=100)\n",
    "rf_fit=random_forest.fit(train_x, train_labels)\n",
    "\n",
    "#end3 = time.time()\n",
    "#RanForest_time = end3-start3\n",
    "#print(\"Random Forest Time: {:0.2f} minute\".format(RanForest_time/60.0)"
   ]
  },
  {
   "cell_type": "code",
   "execution_count": 36,
   "id": "m8vZ_lxV2pPE",
   "metadata": {
    "colab": {
     "base_uri": "https://localhost:8080/"
    },
    "id": "m8vZ_lxV2pPE",
    "outputId": "9e11e998-0cec-4726-d4d9-7d989154771f"
   },
   "outputs": [
    {
     "name": "stdout",
     "output_type": "stream",
     "text": [
      "Test Accuracy score: 0.8845\n",
      "              precision    recall  f1-score   support\n",
      "\n",
      "           0       0.81      0.87      0.83      1000\n",
      "           1       0.99      0.98      0.98      1000\n",
      "           2       0.79      0.81      0.80      1000\n",
      "           3       0.90      0.93      0.91      1000\n",
      "           4       0.80      0.85      0.83      1000\n",
      "           5       0.98      0.94      0.96      1000\n",
      "           6       0.76      0.60      0.67      1000\n",
      "           7       0.92      0.94      0.93      1000\n",
      "           8       0.95      0.98      0.96      1000\n",
      "           9       0.94      0.95      0.95      1000\n",
      "\n",
      "    accuracy                           0.88     10000\n",
      "   macro avg       0.88      0.88      0.88     10000\n",
      "weighted avg       0.88      0.88      0.88     10000\n",
      "\n"
     ]
    }
   ],
   "source": [
    "\n",
    "pred_forest = random_forest.predict(test_x)\n",
    "random_forest_accuracy = metrics.accuracy_score(test_labels, pred_forest)\n",
    "print(\"Test Accuracy score: {}\".format(random_forest_accuracy))\n",
    "print(metrics.classification_report(test_labels, pred_forest))\n"
   ]
  },
  {
   "cell_type": "markdown",
   "id": "87067edd",
   "metadata": {
    "id": "87067edd"
   },
   "source": [
    "# SVM"
   ]
  },
  {
   "cell_type": "code",
   "execution_count": 37,
   "id": "416cccde",
   "metadata": {
    "id": "416cccde"
   },
   "outputs": [],
   "source": [
    "from sklearn import svm\n",
    "import sklearn.model_selection as model_selection\n",
    "from sklearn.metrics import accuracy_score\n",
    "from sklearn.metrics import f1_score"
   ]
  },
  {
   "cell_type": "code",
   "execution_count": 39,
   "id": "184de6fd",
   "metadata": {
    "id": "184de6fd"
   },
   "outputs": [],
   "source": [
    "startsvm = time.time()\n",
    "# Use Ploynomial kernel \n",
    "svmpoly = svm.SVC(kernel='poly', degree=3, C=10).fit(train_x, train_labels)\n",
    "\n",
    "endsvm = time.time()\n",
    "SVMsvm_time = endsvm-startsvm\n",
    "print(\"LDA Time: {:0.2f} minute\".format(SVMsvm_time/60.0))"
   ]
  },
  {
   "cell_type": "code",
   "execution_count": 40,
   "id": "9e038eed",
   "metadata": {
    "id": "9e038eed",
    "outputId": "e34eee97-8c5d-4704-e6f7-45486396538a"
   },
   "outputs": [
    {
     "name": "stdout",
     "output_type": "stream",
     "text": [
      "              precision    recall  f1-score   support\n",
      "\n",
      "           0       0.81      0.88      0.84      1000\n",
      "           1       0.98      0.98      0.98      1000\n",
      "           2       0.82      0.80      0.81      1000\n",
      "           3       0.90      0.90      0.90      1000\n",
      "           4       0.85      0.82      0.83      1000\n",
      "           5       0.93      0.96      0.94      1000\n",
      "           6       0.75      0.72      0.73      1000\n",
      "           7       0.94      0.94      0.94      1000\n",
      "           8       0.98      0.96      0.97      1000\n",
      "           9       0.95      0.95      0.95      1000\n",
      "\n",
      "    accuracy                           0.89     10000\n",
      "   macro avg       0.89      0.89      0.89     10000\n",
      "weighted avg       0.89      0.89      0.89     10000\n",
      "\n",
      "LDA Time: 1.84 minute\n"
     ]
    }
   ],
   "source": [
    "start4 = time.time()\n",
    "\n",
    "expected_y  = test_labels\n",
    "predicted_y = svmpoly.predict(test_x)\n",
    "SVM_pred_y = predicted_y\n",
    "print(metrics.classification_report(expected_y, predicted_y))\n",
    "\n",
    "end4 = time.time()\n",
    "SVM_time = end4-start4\n",
    "print(\"LDA Time: {:0.2f} minute\".format(SVM_time/60.0))"
   ]
  },
  {
   "cell_type": "code",
   "execution_count": 41,
   "id": "c8926f00",
   "metadata": {
    "id": "c8926f00",
    "outputId": "b848c57f-5a89-43a4-8edb-1cbc89dfcfa9"
   },
   "outputs": [
    {
     "data": {
      "text/html": [
       "<div>\n",
       "<style scoped>\n",
       "    .dataframe tbody tr th:only-of-type {\n",
       "        vertical-align: middle;\n",
       "    }\n",
       "\n",
       "    .dataframe tbody tr th {\n",
       "        vertical-align: top;\n",
       "    }\n",
       "\n",
       "    .dataframe thead th {\n",
       "        text-align: right;\n",
       "    }\n",
       "</style>\n",
       "<table border=\"1\" class=\"dataframe\">\n",
       "  <thead>\n",
       "    <tr style=\"text-align: right;\">\n",
       "      <th></th>\n",
       "      <th>precision</th>\n",
       "      <th>recall</th>\n",
       "      <th>f1-score</th>\n",
       "      <th>support</th>\n",
       "    </tr>\n",
       "  </thead>\n",
       "  <tbody>\n",
       "    <tr>\n",
       "      <th>0</th>\n",
       "      <td>0.809041</td>\n",
       "      <td>0.8770</td>\n",
       "      <td>0.841651</td>\n",
       "      <td>1000.0000</td>\n",
       "    </tr>\n",
       "    <tr>\n",
       "      <th>1</th>\n",
       "      <td>0.984985</td>\n",
       "      <td>0.9840</td>\n",
       "      <td>0.984492</td>\n",
       "      <td>1000.0000</td>\n",
       "    </tr>\n",
       "    <tr>\n",
       "      <th>2</th>\n",
       "      <td>0.820513</td>\n",
       "      <td>0.8000</td>\n",
       "      <td>0.810127</td>\n",
       "      <td>1000.0000</td>\n",
       "    </tr>\n",
       "    <tr>\n",
       "      <th>3</th>\n",
       "      <td>0.898507</td>\n",
       "      <td>0.9030</td>\n",
       "      <td>0.900748</td>\n",
       "      <td>1000.0000</td>\n",
       "    </tr>\n",
       "    <tr>\n",
       "      <th>4</th>\n",
       "      <td>0.851197</td>\n",
       "      <td>0.8180</td>\n",
       "      <td>0.834268</td>\n",
       "      <td>1000.0000</td>\n",
       "    </tr>\n",
       "    <tr>\n",
       "      <th>5</th>\n",
       "      <td>0.929126</td>\n",
       "      <td>0.9570</td>\n",
       "      <td>0.942857</td>\n",
       "      <td>1000.0000</td>\n",
       "    </tr>\n",
       "    <tr>\n",
       "      <th>6</th>\n",
       "      <td>0.746362</td>\n",
       "      <td>0.7180</td>\n",
       "      <td>0.731906</td>\n",
       "      <td>1000.0000</td>\n",
       "    </tr>\n",
       "    <tr>\n",
       "      <th>7</th>\n",
       "      <td>0.939122</td>\n",
       "      <td>0.9410</td>\n",
       "      <td>0.940060</td>\n",
       "      <td>1000.0000</td>\n",
       "    </tr>\n",
       "    <tr>\n",
       "      <th>8</th>\n",
       "      <td>0.977665</td>\n",
       "      <td>0.9630</td>\n",
       "      <td>0.970277</td>\n",
       "      <td>1000.0000</td>\n",
       "    </tr>\n",
       "    <tr>\n",
       "      <th>9</th>\n",
       "      <td>0.954865</td>\n",
       "      <td>0.9520</td>\n",
       "      <td>0.953430</td>\n",
       "      <td>1000.0000</td>\n",
       "    </tr>\n",
       "    <tr>\n",
       "      <th>accuracy</th>\n",
       "      <td>0.891300</td>\n",
       "      <td>0.8913</td>\n",
       "      <td>0.891300</td>\n",
       "      <td>0.8913</td>\n",
       "    </tr>\n",
       "    <tr>\n",
       "      <th>macro avg</th>\n",
       "      <td>0.891138</td>\n",
       "      <td>0.8913</td>\n",
       "      <td>0.890982</td>\n",
       "      <td>10000.0000</td>\n",
       "    </tr>\n",
       "    <tr>\n",
       "      <th>weighted avg</th>\n",
       "      <td>0.891138</td>\n",
       "      <td>0.8913</td>\n",
       "      <td>0.890982</td>\n",
       "      <td>10000.0000</td>\n",
       "    </tr>\n",
       "  </tbody>\n",
       "</table>\n",
       "</div>"
      ],
      "text/plain": [
       "              precision  recall  f1-score     support\n",
       "0              0.809041  0.8770  0.841651   1000.0000\n",
       "1              0.984985  0.9840  0.984492   1000.0000\n",
       "2              0.820513  0.8000  0.810127   1000.0000\n",
       "3              0.898507  0.9030  0.900748   1000.0000\n",
       "4              0.851197  0.8180  0.834268   1000.0000\n",
       "5              0.929126  0.9570  0.942857   1000.0000\n",
       "6              0.746362  0.7180  0.731906   1000.0000\n",
       "7              0.939122  0.9410  0.940060   1000.0000\n",
       "8              0.977665  0.9630  0.970277   1000.0000\n",
       "9              0.954865  0.9520  0.953430   1000.0000\n",
       "accuracy       0.891300  0.8913  0.891300      0.8913\n",
       "macro avg      0.891138  0.8913  0.890982  10000.0000\n",
       "weighted avg   0.891138  0.8913  0.890982  10000.0000"
      ]
     },
     "execution_count": 41,
     "metadata": {},
     "output_type": "execute_result"
    }
   ],
   "source": [
    "report = metrics.classification_report(expected_y, predicted_y, output_dict=True)\n",
    "pd.DataFrame(report).transpose()"
   ]
  },
  {
   "cell_type": "code",
   "execution_count": 42,
   "id": "c78c0887",
   "metadata": {
    "id": "c78c0887"
   },
   "outputs": [],
   "source": [
    "# to get the precision dictionary\n",
    "out = {}\n",
    "for i in range(0,10):\n",
    "    out.update({i:round(report[str(i)]['precision'],2)})"
   ]
  },
  {
   "cell_type": "code",
   "execution_count": 43,
   "id": "6413f7b5",
   "metadata": {
    "id": "6413f7b5"
   },
   "outputs": [],
   "source": [
    "# create df of y_pred of test set for each model\n",
    "y_pred_test = pd.concat([pd.DataFrame(lightGBM_pred_y, columns = ['LightGBM']),\n",
    "           pd.DataFrame(lda_pred_y, columns = ['LDA']),\n",
    "           pd.DataFrame(SVM_pred_y, columns = ['SVM']),\n",
    "           pd.DataFrame(pred_forest, columns = ['RF']),],axis=1)"
   ]
  },
  {
   "cell_type": "code",
   "execution_count": 44,
   "id": "0500a56e",
   "metadata": {
    "id": "0500a56e"
   },
   "outputs": [],
   "source": [
    "y_pred_test.to_csv('y_pred_test.csv')"
   ]
  },
  {
   "cell_type": "markdown",
   "id": "rhdbl5naxr6R",
   "metadata": {
    "id": "rhdbl5naxr6R"
   },
   "source": [
    "## User defined function"
   ]
  },
  {
   "cell_type": "code",
   "execution_count": null,
   "id": "24b4de77",
   "metadata": {
    "id": "24b4de77"
   },
   "outputs": [],
   "source": [
    "# Construct the reference table\n",
    "ref1 = {0: 0.84, 1: 1.0, 2: 0.8, 3: 0.89, 4: 0.8, 5: 0.99, 6: 0.72, 7: 0.95, 8: 0.98, 9: 0.97}\n",
    "ref2 = {0: 0.82, 1: 1.0, 2: 0.71, 3: 0.81, 4: 0.71, 5: 0.89, 6: 0.56, 7: 0.88, 8: 0.94, 9: 0.92}\n",
    "ref3 = {0: 0.79, 1: 0.99, 2: 0.8, 3: 0.88, 4: 0.83, 5: 0.84, 6: 0.66, 7: 0.94, 8: 0.97, 9: 0.96}\n",
    "ref_df = [ref1, ref2, ref3]"
   ]
  },
  {
   "cell_type": "code",
   "execution_count": null,
   "id": "qcwqLL92x0NX",
   "metadata": {
    "id": "qcwqLL92x0NX"
   },
   "outputs": [],
   "source": [
    "ypred_org = y_pred_test\n",
    "ypred = ypred_org.copy()"
   ]
  },
  {
   "cell_type": "code",
   "execution_count": null,
   "id": "zPrR_NUjy4yx",
   "metadata": {
    "colab": {
     "base_uri": "https://localhost:8080/",
     "height": 423
    },
    "id": "zPrR_NUjy4yx",
    "outputId": "d8570a97-9dd2-4d15-b1ae-008abc5f0319"
   },
   "outputs": [
    {
     "data": {
      "text/html": [
       "\n",
       "  <div id=\"df-ece1d19d-ceb6-441c-a6dd-7cfea5f2f773\">\n",
       "    <div class=\"colab-df-container\">\n",
       "      <div>\n",
       "<style scoped>\n",
       "    .dataframe tbody tr th:only-of-type {\n",
       "        vertical-align: middle;\n",
       "    }\n",
       "\n",
       "    .dataframe tbody tr th {\n",
       "        vertical-align: top;\n",
       "    }\n",
       "\n",
       "    .dataframe thead th {\n",
       "        text-align: right;\n",
       "    }\n",
       "</style>\n",
       "<table border=\"1\" class=\"dataframe\">\n",
       "  <thead>\n",
       "    <tr style=\"text-align: right;\">\n",
       "      <th></th>\n",
       "      <th>1</th>\n",
       "      <th>2</th>\n",
       "      <th>3</th>\n",
       "    </tr>\n",
       "  </thead>\n",
       "  <tbody>\n",
       "    <tr>\n",
       "      <th>0</th>\n",
       "      <td>0.97</td>\n",
       "      <td>0.92</td>\n",
       "      <td>0.96</td>\n",
       "    </tr>\n",
       "    <tr>\n",
       "      <th>1</th>\n",
       "      <td>0.80</td>\n",
       "      <td>0.71</td>\n",
       "      <td>0.80</td>\n",
       "    </tr>\n",
       "    <tr>\n",
       "      <th>2</th>\n",
       "      <td>1.00</td>\n",
       "      <td>1.00</td>\n",
       "      <td>0.99</td>\n",
       "    </tr>\n",
       "    <tr>\n",
       "      <th>3</th>\n",
       "      <td>1.00</td>\n",
       "      <td>1.00</td>\n",
       "      <td>0.99</td>\n",
       "    </tr>\n",
       "    <tr>\n",
       "      <th>4</th>\n",
       "      <td>0.72</td>\n",
       "      <td>0.56</td>\n",
       "      <td>0.66</td>\n",
       "    </tr>\n",
       "    <tr>\n",
       "      <th>...</th>\n",
       "      <td>...</td>\n",
       "      <td>...</td>\n",
       "      <td>...</td>\n",
       "    </tr>\n",
       "    <tr>\n",
       "      <th>9995</th>\n",
       "      <td>0.97</td>\n",
       "      <td>0.92</td>\n",
       "      <td>0.96</td>\n",
       "    </tr>\n",
       "    <tr>\n",
       "      <th>9996</th>\n",
       "      <td>1.00</td>\n",
       "      <td>1.00</td>\n",
       "      <td>0.99</td>\n",
       "    </tr>\n",
       "    <tr>\n",
       "      <th>9997</th>\n",
       "      <td>0.98</td>\n",
       "      <td>0.56</td>\n",
       "      <td>0.97</td>\n",
       "    </tr>\n",
       "    <tr>\n",
       "      <th>9998</th>\n",
       "      <td>1.00</td>\n",
       "      <td>1.00</td>\n",
       "      <td>0.99</td>\n",
       "    </tr>\n",
       "    <tr>\n",
       "      <th>9999</th>\n",
       "      <td>0.99</td>\n",
       "      <td>0.89</td>\n",
       "      <td>0.84</td>\n",
       "    </tr>\n",
       "  </tbody>\n",
       "</table>\n",
       "<p>10000 rows × 3 columns</p>\n",
       "</div>\n",
       "      <button class=\"colab-df-convert\" onclick=\"convertToInteractive('df-ece1d19d-ceb6-441c-a6dd-7cfea5f2f773')\"\n",
       "              title=\"Convert this dataframe to an interactive table.\"\n",
       "              style=\"display:none;\">\n",
       "        \n",
       "  <svg xmlns=\"http://www.w3.org/2000/svg\" height=\"24px\"viewBox=\"0 0 24 24\"\n",
       "       width=\"24px\">\n",
       "    <path d=\"M0 0h24v24H0V0z\" fill=\"none\"/>\n",
       "    <path d=\"M18.56 5.44l.94 2.06.94-2.06 2.06-.94-2.06-.94-.94-2.06-.94 2.06-2.06.94zm-11 1L8.5 8.5l.94-2.06 2.06-.94-2.06-.94L8.5 2.5l-.94 2.06-2.06.94zm10 10l.94 2.06.94-2.06 2.06-.94-2.06-.94-.94-2.06-.94 2.06-2.06.94z\"/><path d=\"M17.41 7.96l-1.37-1.37c-.4-.4-.92-.59-1.43-.59-.52 0-1.04.2-1.43.59L10.3 9.45l-7.72 7.72c-.78.78-.78 2.05 0 2.83L4 21.41c.39.39.9.59 1.41.59.51 0 1.02-.2 1.41-.59l7.78-7.78 2.81-2.81c.8-.78.8-2.07 0-2.86zM5.41 20L4 18.59l7.72-7.72 1.47 1.35L5.41 20z\"/>\n",
       "  </svg>\n",
       "      </button>\n",
       "      \n",
       "  <style>\n",
       "    .colab-df-container {\n",
       "      display:flex;\n",
       "      flex-wrap:wrap;\n",
       "      gap: 12px;\n",
       "    }\n",
       "\n",
       "    .colab-df-convert {\n",
       "      background-color: #E8F0FE;\n",
       "      border: none;\n",
       "      border-radius: 50%;\n",
       "      cursor: pointer;\n",
       "      display: none;\n",
       "      fill: #1967D2;\n",
       "      height: 32px;\n",
       "      padding: 0 0 0 0;\n",
       "      width: 32px;\n",
       "    }\n",
       "\n",
       "    .colab-df-convert:hover {\n",
       "      background-color: #E2EBFA;\n",
       "      box-shadow: 0px 1px 2px rgba(60, 64, 67, 0.3), 0px 1px 3px 1px rgba(60, 64, 67, 0.15);\n",
       "      fill: #174EA6;\n",
       "    }\n",
       "\n",
       "    [theme=dark] .colab-df-convert {\n",
       "      background-color: #3B4455;\n",
       "      fill: #D2E3FC;\n",
       "    }\n",
       "\n",
       "    [theme=dark] .colab-df-convert:hover {\n",
       "      background-color: #434B5C;\n",
       "      box-shadow: 0px 1px 3px 1px rgba(0, 0, 0, 0.15);\n",
       "      filter: drop-shadow(0px 1px 2px rgba(0, 0, 0, 0.3));\n",
       "      fill: #FFFFFF;\n",
       "    }\n",
       "  </style>\n",
       "\n",
       "      <script>\n",
       "        const buttonEl =\n",
       "          document.querySelector('#df-ece1d19d-ceb6-441c-a6dd-7cfea5f2f773 button.colab-df-convert');\n",
       "        buttonEl.style.display =\n",
       "          google.colab.kernel.accessAllowed ? 'block' : 'none';\n",
       "\n",
       "        async function convertToInteractive(key) {\n",
       "          const element = document.querySelector('#df-ece1d19d-ceb6-441c-a6dd-7cfea5f2f773');\n",
       "          const dataTable =\n",
       "            await google.colab.kernel.invokeFunction('convertToInteractive',\n",
       "                                                     [key], {});\n",
       "          if (!dataTable) return;\n",
       "\n",
       "          const docLinkHtml = 'Like what you see? Visit the ' +\n",
       "            '<a target=\"_blank\" href=https://colab.research.google.com/notebooks/data_table.ipynb>data table notebook</a>'\n",
       "            + ' to learn more about interactive tables.';\n",
       "          element.innerHTML = '';\n",
       "          dataTable['output_type'] = 'display_data';\n",
       "          await google.colab.output.renderOutput(dataTable, element);\n",
       "          const docLink = document.createElement('div');\n",
       "          docLink.innerHTML = docLinkHtml;\n",
       "          element.appendChild(docLink);\n",
       "        }\n",
       "      </script>\n",
       "    </div>\n",
       "  </div>\n",
       "  "
      ],
      "text/plain": [
       "         1     2     3\n",
       "0     0.97  0.92  0.96\n",
       "1     0.80  0.71  0.80\n",
       "2     1.00  1.00  0.99\n",
       "3     1.00  1.00  0.99\n",
       "4     0.72  0.56  0.66\n",
       "...    ...   ...   ...\n",
       "9995  0.97  0.92  0.96\n",
       "9996  1.00  1.00  0.99\n",
       "9997  0.98  0.56  0.97\n",
       "9998  1.00  1.00  0.99\n",
       "9999  0.99  0.89  0.84\n",
       "\n",
       "[10000 rows x 3 columns]"
      ]
     },
     "execution_count": 25,
     "metadata": {},
     "output_type": "execute_result"
    }
   ],
   "source": [
    "# represent the y_test_pred with according precision\n",
    "for i in range(ypred.shape[1]):\n",
    "   ypred.iloc[:,i] = ypred.iloc[:,i].replace(ref_df[i])\n",
    "\n",
    "ypred.columns = [1,2,3]\n",
    "ypred"
   ]
  },
  {
   "cell_type": "code",
   "execution_count": null,
   "id": "O5DYwSnMy7cb",
   "metadata": {
    "id": "O5DYwSnMy7cb"
   },
   "outputs": [],
   "source": [
    "# For each sample, take the result from model with highest precision \n",
    "n=ypred.idxmax(axis='columns')\n",
    "result=[]\n",
    "for j in range(len(n)):\n",
    "    m=n[j]-1\n",
    "    result.append(ypred_org.iloc[j,m])"
   ]
  },
  {
   "cell_type": "code",
   "execution_count": null,
   "id": "NF2PaJp0zSsZ",
   "metadata": {
    "colab": {
     "base_uri": "https://localhost:8080/",
     "height": 457
    },
    "id": "NF2PaJp0zSsZ",
    "outputId": "d4afd8f4-b28b-41bb-9ef2-f3c02eac653f"
   },
   "outputs": [
    {
     "data": {
      "text/html": [
       "\n",
       "  <div id=\"df-cd707a86-327e-486e-80d7-ab31841edea0\">\n",
       "    <div class=\"colab-df-container\">\n",
       "      <div>\n",
       "<style scoped>\n",
       "    .dataframe tbody tr th:only-of-type {\n",
       "        vertical-align: middle;\n",
       "    }\n",
       "\n",
       "    .dataframe tbody tr th {\n",
       "        vertical-align: top;\n",
       "    }\n",
       "\n",
       "    .dataframe thead th {\n",
       "        text-align: right;\n",
       "    }\n",
       "</style>\n",
       "<table border=\"1\" class=\"dataframe\">\n",
       "  <thead>\n",
       "    <tr style=\"text-align: right;\">\n",
       "      <th></th>\n",
       "      <th>precision</th>\n",
       "      <th>recall</th>\n",
       "      <th>f1-score</th>\n",
       "      <th>support</th>\n",
       "    </tr>\n",
       "  </thead>\n",
       "  <tbody>\n",
       "    <tr>\n",
       "      <th>0</th>\n",
       "      <td>0.793750</td>\n",
       "      <td>0.889</td>\n",
       "      <td>0.838679</td>\n",
       "      <td>1000.000</td>\n",
       "    </tr>\n",
       "    <tr>\n",
       "      <th>1</th>\n",
       "      <td>0.989837</td>\n",
       "      <td>0.974</td>\n",
       "      <td>0.981855</td>\n",
       "      <td>1000.000</td>\n",
       "    </tr>\n",
       "    <tr>\n",
       "      <th>2</th>\n",
       "      <td>0.804260</td>\n",
       "      <td>0.793</td>\n",
       "      <td>0.798590</td>\n",
       "      <td>1000.000</td>\n",
       "    </tr>\n",
       "    <tr>\n",
       "      <th>3</th>\n",
       "      <td>0.846435</td>\n",
       "      <td>0.926</td>\n",
       "      <td>0.884432</td>\n",
       "      <td>1000.000</td>\n",
       "    </tr>\n",
       "    <tr>\n",
       "      <th>4</th>\n",
       "      <td>0.786580</td>\n",
       "      <td>0.844</td>\n",
       "      <td>0.814279</td>\n",
       "      <td>1000.000</td>\n",
       "    </tr>\n",
       "    <tr>\n",
       "      <th>5</th>\n",
       "      <td>0.951866</td>\n",
       "      <td>0.969</td>\n",
       "      <td>0.960357</td>\n",
       "      <td>1000.000</td>\n",
       "    </tr>\n",
       "    <tr>\n",
       "      <th>6</th>\n",
       "      <td>0.824615</td>\n",
       "      <td>0.536</td>\n",
       "      <td>0.649697</td>\n",
       "      <td>1000.000</td>\n",
       "    </tr>\n",
       "    <tr>\n",
       "      <th>7</th>\n",
       "      <td>0.949704</td>\n",
       "      <td>0.963</td>\n",
       "      <td>0.956306</td>\n",
       "      <td>1000.000</td>\n",
       "    </tr>\n",
       "    <tr>\n",
       "      <th>8</th>\n",
       "      <td>0.930806</td>\n",
       "      <td>0.982</td>\n",
       "      <td>0.955718</td>\n",
       "      <td>1000.000</td>\n",
       "    </tr>\n",
       "    <tr>\n",
       "      <th>9</th>\n",
       "      <td>0.958250</td>\n",
       "      <td>0.964</td>\n",
       "      <td>0.961117</td>\n",
       "      <td>1000.000</td>\n",
       "    </tr>\n",
       "    <tr>\n",
       "      <th>accuracy</th>\n",
       "      <td>0.884000</td>\n",
       "      <td>0.884</td>\n",
       "      <td>0.884000</td>\n",
       "      <td>0.884</td>\n",
       "    </tr>\n",
       "    <tr>\n",
       "      <th>macro avg</th>\n",
       "      <td>0.883610</td>\n",
       "      <td>0.884</td>\n",
       "      <td>0.880103</td>\n",
       "      <td>10000.000</td>\n",
       "    </tr>\n",
       "    <tr>\n",
       "      <th>weighted avg</th>\n",
       "      <td>0.883610</td>\n",
       "      <td>0.884</td>\n",
       "      <td>0.880103</td>\n",
       "      <td>10000.000</td>\n",
       "    </tr>\n",
       "  </tbody>\n",
       "</table>\n",
       "</div>\n",
       "      <button class=\"colab-df-convert\" onclick=\"convertToInteractive('df-cd707a86-327e-486e-80d7-ab31841edea0')\"\n",
       "              title=\"Convert this dataframe to an interactive table.\"\n",
       "              style=\"display:none;\">\n",
       "        \n",
       "  <svg xmlns=\"http://www.w3.org/2000/svg\" height=\"24px\"viewBox=\"0 0 24 24\"\n",
       "       width=\"24px\">\n",
       "    <path d=\"M0 0h24v24H0V0z\" fill=\"none\"/>\n",
       "    <path d=\"M18.56 5.44l.94 2.06.94-2.06 2.06-.94-2.06-.94-.94-2.06-.94 2.06-2.06.94zm-11 1L8.5 8.5l.94-2.06 2.06-.94-2.06-.94L8.5 2.5l-.94 2.06-2.06.94zm10 10l.94 2.06.94-2.06 2.06-.94-2.06-.94-.94-2.06-.94 2.06-2.06.94z\"/><path d=\"M17.41 7.96l-1.37-1.37c-.4-.4-.92-.59-1.43-.59-.52 0-1.04.2-1.43.59L10.3 9.45l-7.72 7.72c-.78.78-.78 2.05 0 2.83L4 21.41c.39.39.9.59 1.41.59.51 0 1.02-.2 1.41-.59l7.78-7.78 2.81-2.81c.8-.78.8-2.07 0-2.86zM5.41 20L4 18.59l7.72-7.72 1.47 1.35L5.41 20z\"/>\n",
       "  </svg>\n",
       "      </button>\n",
       "      \n",
       "  <style>\n",
       "    .colab-df-container {\n",
       "      display:flex;\n",
       "      flex-wrap:wrap;\n",
       "      gap: 12px;\n",
       "    }\n",
       "\n",
       "    .colab-df-convert {\n",
       "      background-color: #E8F0FE;\n",
       "      border: none;\n",
       "      border-radius: 50%;\n",
       "      cursor: pointer;\n",
       "      display: none;\n",
       "      fill: #1967D2;\n",
       "      height: 32px;\n",
       "      padding: 0 0 0 0;\n",
       "      width: 32px;\n",
       "    }\n",
       "\n",
       "    .colab-df-convert:hover {\n",
       "      background-color: #E2EBFA;\n",
       "      box-shadow: 0px 1px 2px rgba(60, 64, 67, 0.3), 0px 1px 3px 1px rgba(60, 64, 67, 0.15);\n",
       "      fill: #174EA6;\n",
       "    }\n",
       "\n",
       "    [theme=dark] .colab-df-convert {\n",
       "      background-color: #3B4455;\n",
       "      fill: #D2E3FC;\n",
       "    }\n",
       "\n",
       "    [theme=dark] .colab-df-convert:hover {\n",
       "      background-color: #434B5C;\n",
       "      box-shadow: 0px 1px 3px 1px rgba(0, 0, 0, 0.15);\n",
       "      filter: drop-shadow(0px 1px 2px rgba(0, 0, 0, 0.3));\n",
       "      fill: #FFFFFF;\n",
       "    }\n",
       "  </style>\n",
       "\n",
       "      <script>\n",
       "        const buttonEl =\n",
       "          document.querySelector('#df-cd707a86-327e-486e-80d7-ab31841edea0 button.colab-df-convert');\n",
       "        buttonEl.style.display =\n",
       "          google.colab.kernel.accessAllowed ? 'block' : 'none';\n",
       "\n",
       "        async function convertToInteractive(key) {\n",
       "          const element = document.querySelector('#df-cd707a86-327e-486e-80d7-ab31841edea0');\n",
       "          const dataTable =\n",
       "            await google.colab.kernel.invokeFunction('convertToInteractive',\n",
       "                                                     [key], {});\n",
       "          if (!dataTable) return;\n",
       "\n",
       "          const docLinkHtml = 'Like what you see? Visit the ' +\n",
       "            '<a target=\"_blank\" href=https://colab.research.google.com/notebooks/data_table.ipynb>data table notebook</a>'\n",
       "            + ' to learn more about interactive tables.';\n",
       "          element.innerHTML = '';\n",
       "          dataTable['output_type'] = 'display_data';\n",
       "          await google.colab.output.renderOutput(dataTable, element);\n",
       "          const docLink = document.createElement('div');\n",
       "          docLink.innerHTML = docLinkHtml;\n",
       "          element.appendChild(docLink);\n",
       "        }\n",
       "      </script>\n",
       "    </div>\n",
       "  </div>\n",
       "  "
      ],
      "text/plain": [
       "              precision  recall  f1-score    support\n",
       "0              0.793750   0.889  0.838679   1000.000\n",
       "1              0.989837   0.974  0.981855   1000.000\n",
       "2              0.804260   0.793  0.798590   1000.000\n",
       "3              0.846435   0.926  0.884432   1000.000\n",
       "4              0.786580   0.844  0.814279   1000.000\n",
       "5              0.951866   0.969  0.960357   1000.000\n",
       "6              0.824615   0.536  0.649697   1000.000\n",
       "7              0.949704   0.963  0.956306   1000.000\n",
       "8              0.930806   0.982  0.955718   1000.000\n",
       "9              0.958250   0.964  0.961117   1000.000\n",
       "accuracy       0.884000   0.884  0.884000      0.884\n",
       "macro avg      0.883610   0.884  0.880103  10000.000\n",
       "weighted avg   0.883610   0.884  0.880103  10000.000"
      ]
     },
     "execution_count": 27,
     "metadata": {},
     "output_type": "execute_result"
    }
   ],
   "source": [
    "# Calculate the precision for udf model\n",
    "udf_report=metrics.classification_report(test_labels, result, output_dict=True)\n",
    "pd.DataFrame(udf_report).transpose()"
   ]
  },
  {
   "cell_type": "markdown",
   "id": "Zc-IFanG3Tqi",
   "metadata": {
    "id": "Zc-IFanG3Tqi"
   },
   "source": [
    "# Ensemble the models"
   ]
  },
  {
   "cell_type": "code",
   "execution_count": null,
   "id": "mCyR2hsW3We5",
   "metadata": {
    "id": "mCyR2hsW3We5"
   },
   "outputs": [],
   "source": [
    "import lightgbm as ltg\n",
    "from sklearn.linear_model import LogisticRegression\n",
    "from sklearn.discriminant_analysis import LinearDiscriminantAnalysis as LDA\n",
    "from sklearn import svm\n",
    "from sklearn.ensemble import VotingClassifier\n",
    "from sklearn.metrics import accuracy_score\n",
    "from sklearn.ensemble import StackingClassifier"
   ]
  },
  {
   "cell_type": "code",
   "execution_count": null,
   "id": "S7S43Wkw3Xvf",
   "metadata": {
    "id": "S7S43Wkw3Xvf"
   },
   "outputs": [],
   "source": [
    "estimator = []\n",
    "estimator.append(('LDA', LDA(n_components=9)))\n",
    "estimator.append(('SVC', svm.SVC(kernel='poly', degree=3, C=1)))\n",
    "estimator.append(('LGBM', ltg.LGBMClassifier(objective='multiclass',path_smooth = 0.2)))"
   ]
  },
  {
   "cell_type": "markdown",
   "id": "f0xj_0ul05IU",
   "metadata": {
    "id": "f0xj_0ul05IU"
   },
   "source": [
    "## Voting"
   ]
  },
  {
   "cell_type": "code",
   "execution_count": null,
   "id": "WhhNa5dS04YO",
   "metadata": {
    "colab": {
     "base_uri": "https://localhost:8080/"
    },
    "id": "WhhNa5dS04YO",
    "outputId": "9ea3efb2-927c-4deb-85eb-80b600d69fcd"
   },
   "outputs": [
    {
     "data": {
      "text/plain": [
       "VotingClassifier(estimators=[('LDA',\n",
       "                              LinearDiscriminantAnalysis(n_components=9)),\n",
       "                             ('SVC', SVC(C=1, kernel='poly')),\n",
       "                             ('LGBM',\n",
       "                              LGBMClassifier(objective='multiclass',\n",
       "                                             path_smooth=0.2))])"
      ]
     },
     "execution_count": 35,
     "metadata": {},
     "output_type": "execute_result"
    }
   ],
   "source": [
    "vot_hard=VotingClassifier(estimators = estimator, voting ='hard')\n",
    "vot_hard.fit(train_x, train_labels)"
   ]
  },
  {
   "cell_type": "code",
   "execution_count": null,
   "id": "O-ZEHQVV3Qgf",
   "metadata": {
    "colab": {
     "base_uri": "https://localhost:8080/"
    },
    "id": "O-ZEHQVV3Qgf",
    "outputId": "c4649c9d-93a9-47b9-989e-5f673330a828"
   },
   "outputs": [
    {
     "data": {
      "text/plain": [
       "0.8723"
      ]
     },
     "execution_count": 36,
     "metadata": {},
     "output_type": "execute_result"
    }
   ],
   "source": [
    "# predict with voting-ensembled model and check accuracy on testing set\n",
    "ypred=vot_hard.predict(test_x)\n",
    "accuracy_score(test_labels, ypred)"
   ]
  },
  {
   "cell_type": "markdown",
   "id": "Ickc6DDp4tU3",
   "metadata": {
    "id": "Ickc6DDp4tU3"
   },
   "source": [
    "# Stacking"
   ]
  },
  {
   "cell_type": "code",
   "execution_count": null,
   "id": "ofDcoUJl4uyx",
   "metadata": {
    "id": "ofDcoUJl4uyx"
   },
   "outputs": [],
   "source": [
    "clf = StackingClassifier(estimators=estimator, final_estimator=LogisticRegression(max_iter=200, solver='liblinear'))"
   ]
  },
  {
   "cell_type": "code",
   "execution_count": null,
   "id": "ZxVZPhGg4w5Y",
   "metadata": {
    "id": "ZxVZPhGg4w5Y"
   },
   "outputs": [],
   "source": [
    "clf.fit(train_x, train_labels).score(test_x, test_labels)"
   ]
  }
 ],
 "metadata": {
  "colab": {
   "collapsed_sections": [
    "rhdbl5naxr6R",
    "f0xj_0ul05IU"
   ],
   "name": "Copy of stat542_proj_no_preprocess.ipynb",
   "provenance": []
  },
  "kernelspec": {
   "display_name": "Python 3 (ipykernel)",
   "language": "python",
   "name": "python3"
  },
  "language_info": {
   "codemirror_mode": {
    "name": "ipython",
    "version": 3
   },
   "file_extension": ".py",
   "mimetype": "text/x-python",
   "name": "python",
   "nbconvert_exporter": "python",
   "pygments_lexer": "ipython3",
   "version": "3.9.7"
  }
 },
 "nbformat": 4,
 "nbformat_minor": 5
}
