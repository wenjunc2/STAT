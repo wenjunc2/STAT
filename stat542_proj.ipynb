{
  "cells": [
    {
      "cell_type": "markdown",
      "metadata": {
        "id": "view-in-github",
        "colab_type": "text"
      },
      "source": [
        "<a href=\"https://colab.research.google.com/github/wenjunc2/STAT/blob/main/stat542_proj.ipynb\" target=\"_parent\"><img src=\"https://colab.research.google.com/assets/colab-badge.svg\" alt=\"Open In Colab\"/></a>"
      ]
    },
    {
      "cell_type": "code",
      "source": [
        "import pandas as pd\n",
        "import numpy as np\n",
        "\n",
        "from sklearn.datasets import make_classification\n",
        "from sklearn.model_selection import cross_val_score\n",
        "\n",
        "from sklearn import metrics"
      ],
      "metadata": {
        "id": "JH-DWMmdkQ-C"
      },
      "execution_count": 1,
      "outputs": []
    },
    {
      "cell_type": "code",
      "execution_count": 2,
      "metadata": {
        "id": "2zd7_Zx5ZucN",
        "scrolled": true
      },
      "outputs": [],
      "source": [
        "import tensorflow as tf\n",
        "from tensorflow.keras.datasets import fashion_mnist\n",
        "from matplotlib import pyplot as plt"
      ]
    },
    {
      "cell_type": "code",
      "execution_count": 3,
      "metadata": {
        "id": "5lWShS0mZy4x",
        "outputId": "20606383-c3d0-4ca9-87f8-dd509cf012da",
        "colab": {
          "base_uri": "https://localhost:8080/"
        }
      },
      "outputs": [
        {
          "output_type": "stream",
          "name": "stdout",
          "text": [
            "Downloading data from https://storage.googleapis.com/tensorflow/tf-keras-datasets/train-labels-idx1-ubyte.gz\n",
            "32768/29515 [=================================] - 0s 0us/step\n",
            "40960/29515 [=========================================] - 0s 0us/step\n",
            "Downloading data from https://storage.googleapis.com/tensorflow/tf-keras-datasets/train-images-idx3-ubyte.gz\n",
            "26427392/26421880 [==============================] - 0s 0us/step\n",
            "26435584/26421880 [==============================] - 0s 0us/step\n",
            "Downloading data from https://storage.googleapis.com/tensorflow/tf-keras-datasets/t10k-labels-idx1-ubyte.gz\n",
            "16384/5148 [===============================================================================================] - 0s 0us/step\n",
            "Downloading data from https://storage.googleapis.com/tensorflow/tf-keras-datasets/t10k-images-idx3-ubyte.gz\n",
            "4423680/4422102 [==============================] - 0s 0us/step\n",
            "4431872/4422102 [==============================] - 0s 0us/step\n"
          ]
        }
      ],
      "source": [
        "(train_data, train_labels), (test_data, test_labels) = fashion_mnist.load_data()"
      ]
    },
    {
      "cell_type": "markdown",
      "metadata": {
        "id": "scgNwN_4bR6m"
      },
      "source": [
        "#Data exploratory analysis"
      ]
    },
    {
      "cell_type": "code",
      "execution_count": 4,
      "metadata": {
        "colab": {
          "base_uri": "https://localhost:8080/"
        },
        "id": "t8z57Q4fZ2wb",
        "outputId": "9ac0135f-b2de-4ef0-d1c8-4cd60fce635f"
      },
      "outputs": [
        {
          "output_type": "stream",
          "name": "stdout",
          "text": [
            "(60000, 28, 28)\n",
            "(10000, 28, 28)\n"
          ]
        }
      ],
      "source": [
        "# check the shape of train and test datasets\n",
        "print(train_data.shape)\n",
        "print(test_data.shape)\n"
      ]
    },
    {
      "cell_type": "code",
      "execution_count": 5,
      "metadata": {
        "colab": {
          "base_uri": "https://localhost:8080/"
        },
        "id": "SiIX67BWXHaW",
        "outputId": "28ee736c-1dd3-4a24-8620-99683d824a6b"
      },
      "outputs": [
        {
          "output_type": "execute_result",
          "data": {
            "text/plain": [
              "(array([0, 1, 2, 3, 4, 5, 6, 7, 8, 9], dtype=uint8),\n",
              " array([6000, 6000, 6000, 6000, 6000, 6000, 6000, 6000, 6000, 6000]))"
            ]
          },
          "metadata": {},
          "execution_count": 5
        }
      ],
      "source": [
        "import numpy as np\n",
        "np.unique(train_labels, return_counts=True)"
      ]
    },
    {
      "cell_type": "markdown",
      "metadata": {
        "id": "e44WLkuBX9G7"
      },
      "source": [
        "There are 10 categories with 6000 each, in the training dataset."
      ]
    },
    {
      "cell_type": "markdown",
      "metadata": {
        "id": "FIEXphuhuUH6"
      },
      "source": [
        "####Data Preprocsseing"
      ]
    },
    {
      "cell_type": "markdown",
      "metadata": {
        "id": "cCV7agjaud8v"
      },
      "source": [
        "Most clustering algorithms take 1-D array as input, so do transformation on the original dataset(flatten)"
      ]
    },
    {
      "cell_type": "code",
      "execution_count": 6,
      "metadata": {
        "id": "HeWtj3N5ue92"
      },
      "outputs": [],
      "source": [
        "# transform data into 1-D\n",
        "train_x = train_data.reshape(train_data.shape[0], -1).astype('float32')\n",
        "test_x = test_data.reshape(test_data.shape[0], -1).astype('float32')\n",
        "\n",
        "# standardization\n",
        "#train_x = train_x/train_x.max()\n",
        "#test_x = test_x/test_x.max()\n",
        "#print(train_x.shape)"
      ]
    },
    {
      "cell_type": "markdown",
      "metadata": {
        "id": "BMi0LjSabRcb"
      },
      "source": [
        "####Visualization"
      ]
    },
    {
      "cell_type": "code",
      "execution_count": 7,
      "metadata": {
        "id": "N9yX0woAy4G5"
      },
      "outputs": [],
      "source": [
        "# Name the lables\n",
        "labels = ['T-shirt/top', 'Trouser', 'Pullover', 'Dress', 'Coat', 'Sandal', 'Shirt', 'Sneaker', 'Bag', 'Ankle boot']\n"
      ]
    },
    {
      "cell_type": "code",
      "execution_count": null,
      "metadata": {
        "colab": {
          "base_uri": "https://localhost:8080/",
          "height": 122
        },
        "id": "JFSFAMu6WCa_",
        "outputId": "0a45d468-39e5-475f-8e2f-f7ea217dfbf3"
      },
      "outputs": [
        {
          "output_type": "display_data",
          "data": {
            "text/plain": [
              "<Figure size 864x576 with 7 Axes>"
            ],
            "image/png": "[encoded data removed]"
          },
          "metadata": {}
        }
      ],
      "source": [
        "# Randomly choose some images\n",
        "import random\n",
        "random.seed(9)\n",
        "\n",
        "fig = plt.figure(figsize=[12, 8])\n",
        "cnt=1\n",
        "for i in random.sample(range(0, 60000), 7):\n",
        "  ax = fig.add_subplot(1, 8, cnt+1, xticks=[], yticks=[])\n",
        "  ax.imshow(train_data[i], cmap=\"twilight\")\n",
        "  ax.set_title(str(labels[train_labels[i]]))\n",
        "  cnt=cnt+1"
      ]
    },
    {
      "cell_type": "markdown",
      "metadata": {
        "id": "2qI-0Ow0cQ2J"
      },
      "source": [
        "##Unsupervised Learning\n",
        "#### Mini-Batch KMeans"
      ]
    },
    {
      "cell_type": "code",
      "execution_count": null,
      "metadata": {
        "id": "UwoUYGlGboXQ"
      },
      "outputs": [],
      "source": [
        "from sklearn.cluster import MiniBatchKMeans\n",
        "from sklearn.metrics.pairwise import pairwise_distances_argmin\n",
        "from sklearn.datasets import make_blobs"
      ]
    },
    {
      "cell_type": "code",
      "execution_count": null,
      "metadata": {
        "id": "v0Xp6p4HgX_H"
      },
      "outputs": [],
      "source": [
        "k_cluster=MiniBatchKMeans(batch_size=100, compute_labels=True, init='k-means++',\n",
        "                init_size=None, max_iter=50, max_no_improvement=10,\n",
        "                n_clusters=10, n_init=3, random_state=542,\n",
        "                reassignment_ratio=0.008, tol=0.0, verbose=0)"
      ]
    },
    {
      "cell_type": "code",
      "execution_count": null,
      "metadata": {
        "colab": {
          "base_uri": "https://localhost:8080/"
        },
        "id": "WW30HzEfxT4q",
        "outputId": "c494e2f1-4709-4a1c-ce77-6612fa7c52a5"
      },
      "outputs": [
        {
          "name": "stderr",
          "output_type": "stream",
          "text": [
            "C:\\Users\\user\\anaconda3\\lib\\site-packages\\sklearn\\cluster\\_kmeans.py:887: UserWarning: MiniBatchKMeans is known to have a memory leak on Windows with MKL, when there are less chunks than available threads. You can prevent it by setting batch_size >= 1024 or by setting the environment variable OMP_NUM_THREADS=1\n",
            "  warnings.warn(\n"
          ]
        },
        {
          "data": {
            "text/plain": [
              "MiniBatchKMeans(max_iter=50, n_clusters=10, random_state=542,\n",
              "                reassignment_ratio=0.008)"
            ]
          },
          "execution_count": 12,
          "metadata": {},
          "output_type": "execute_result"
        }
      ],
      "source": [
        "k_cluster.fit(train_x)"
      ]
    },
    {
      "cell_type": "code",
      "execution_count": null,
      "metadata": {
        "id": "K2bxBntTxZJ5"
      },
      "outputs": [],
      "source": [
        "label2cluster = {}\n",
        "\n",
        "for i in range(k_cluster.n_clusters):\n",
        "    labels = []\n",
        "    indeces = np.where(k_cluster.labels_ == i)\n",
        "    labels.append(train_labels[indeces])"
      ]
    },
    {
      "cell_type": "markdown",
      "metadata": {
        "id": "MBx3qOWItBP6"
      },
      "source": [
        "For each y_label, check which category they are mostly concentrated in"
      ]
    },
    {
      "cell_type": "code",
      "execution_count": null,
      "metadata": {
        "id": "q1nsWWs8xjuc"
      },
      "outputs": [],
      "source": [
        "def get_label2cluster_mapper(kmeans, ground_trues):\n",
        "\n",
        "    label2cluster = {}\n",
        "    for i in range(kmeans.n_clusters):\n",
        "        labels = []\n",
        "        indeces = np.where(kmeans.labels_ == i)\n",
        "        labels.append(ground_trues[indeces])\n",
        "        #labels = ground_trues[indeces]\n",
        "        #hist = (np.bincount(np.squeeze(labels)))\n",
        "        \n",
        "        if len(labels[0]) == 1:\n",
        "            hist = np.bincount(labels[0])\n",
        "        else:\n",
        "            hist = np.bincount(np.squeeze(labels))\n",
        "\n",
        "        if np.argmax(hist) in label2cluster:\n",
        "            label2cluster[np.argmax(hist)].append(i)\n",
        "        else:\n",
        "            label2cluster[np.argmax(hist)] = [i]\n",
        "\n",
        "    return label2cluster"
      ]
    },
    {
      "cell_type": "code",
      "execution_count": null,
      "metadata": {
        "colab": {
          "base_uri": "https://localhost:8080/"
        },
        "id": "3i983wvOxl2e",
        "outputId": "b778e0f6-fc43-4e44-c846-a1dec0e2fe70"
      },
      "outputs": [
        {
          "data": {
            "text/plain": [
              "{5: [0], 6: [1], 2: [2], 9: [3, 4], 0: [5], 1: [6], 8: [7], 4: [8], 7: [9]}"
            ]
          },
          "execution_count": 15,
          "metadata": {},
          "output_type": "execute_result"
        }
      ],
      "source": [
        "get_label2cluster_mapper(k_cluster, train_labels)"
      ]
    },
    {
      "cell_type": "markdown",
      "source": [
        "#### GMM(Gaussian Mixed Model)"
      ],
      "metadata": {
        "id": "VT3rEK3MMS5J"
      }
    },
    {
      "cell_type": "code",
      "source": [
        "from sklearn.mixture import GaussianMixture\n",
        "from sklearn.metrics import confusion_matrix"
      ],
      "metadata": {
        "id": "lsvFPxdfMbJP"
      },
      "execution_count": null,
      "outputs": []
    },
    {
      "cell_type": "code",
      "source": [
        "gmm = GaussianMixture(n_components=10).fit(train_x)\n",
        "gmmlabels = gmm.predict(train_x)\n",
        "confusionmatrix_GMM = confusion_matrix(train_labels, gmmlabels)\n",
        "print(confusionmatrix_GMM)"
      ],
      "metadata": {
        "colab": {
          "base_uri": "https://localhost:8080/"
        },
        "id": "4OgjPtEnMgq2",
        "outputId": "5ab3d70e-0d0c-4bcf-b1d6-49b9cf3bf62a"
      },
      "execution_count": null,
      "outputs": [
        {
          "output_type": "stream",
          "name": "stdout",
          "text": [
            "[[ 269    2    0  382  115   23  294  811   17 4087]\n",
            " [  14    0    0   71    3    0 5609  303    0    0]\n",
            " [ 234    1    0  897 2632   12   10 2181   23   10]\n",
            " [  35    0    0  137   64    1 2951 2749    7   56]\n",
            " [  95    0    0  427 2239    5  124 3090   16    4]\n",
            " [   4 1969 3806   36    0  171    2    8    4    0]\n",
            " [ 609    4    0  881 1813   24   99 1666   31  873]\n",
            " [   0  264 5677    0    0   59    0    0    0    0]\n",
            " [ 542    4    9  120  145 2269   75  684 2151    1]\n",
            " [   5 4220 1541   34    0  190    0    9    1    0]]\n"
          ]
        }
      ]
    },
    {
      "cell_type": "markdown",
      "metadata": {
        "id": "dyM6EIFiH9X-"
      },
      "source": [
        "## LightGBM"
      ]
    },
    {
      "cell_type": "code",
      "execution_count": 8,
      "metadata": {
        "id": "0UFUtdwzIBxV"
      },
      "outputs": [],
      "source": [
        "from sklearn import metrics\n",
        "import lightgbm as ltg\n",
        "from sklearn.model_selection import cross_val_score\n",
        "import time\n",
        "start_time = time.time()"
      ]
    },
    {
      "cell_type": "markdown",
      "metadata": {
        "id": "waRxtiOfOXb9"
      },
      "source": [
        "Light gradient bosting model fitting"
      ]
    },
    {
      "cell_type": "code",
      "execution_count": 9,
      "metadata": {
        "id": "G6Yt6bfkNA61"
      },
      "outputs": [],
      "source": [
        "#ltg_model =ltg.LGBMClassifier(boosting_type='gbdt', objective='multiclass', num_class=10, num_iteration=100, max_depth=4, learning_rate=0.01, n_estimators=100, n_thread=4, slient=False)"
      ]
    },
    {
      "cell_type": "code",
      "source": [
        "from lightgbm import LGBMClassifier"
      ],
      "metadata": {
        "id": "HArunE93lanw"
      },
      "execution_count": 11,
      "outputs": []
    },
    {
      "cell_type": "code",
      "source": [
        "lgb_model = LGBMClassifier(objective='multiclass',path_smooth = 0.5)\n",
        "lgb_model.fit(train_x,train_labels,categorical_feature=[0,3])"
      ],
      "metadata": {
        "colab": {
          "base_uri": "https://localhost:8080/"
        },
        "id": "767YQ_-alRIV",
        "outputId": "8524e496-0917-45aa-859a-94bde0f3bc3f"
      },
      "execution_count": 12,
      "outputs": [
        {
          "output_type": "stream",
          "name": "stderr",
          "text": [
            "/usr/local/lib/python3.7/dist-packages/lightgbm/basic.py:1209: UserWarning: categorical_feature in Dataset is overridden.\n",
            "New categorical_feature is [0, 3]\n",
            "  'New categorical_feature is {}'.format(sorted(list(categorical_feature))))\n"
          ]
        },
        {
          "output_type": "execute_result",
          "data": {
            "text/plain": [
              "LGBMClassifier(objective='multiclass', path_smooth=0.5)"
            ]
          },
          "metadata": {},
          "execution_count": 12
        }
      ]
    },
    {
      "cell_type": "code",
      "source": [
        "import pandas as pd\n",
        "expected_y  = test_labels\n",
        "predicted_y = lgb_model.predict(test_x)\n",
        "lightGBM_pred_y = predicted_y\n",
        "print(metrics.classification_report(expected_y, predicted_y))\n",
        "\n",
        "LightGBM_result = metrics.classification_report(expected_y, predicted_y, output_dict=True)\n",
        "LightGBM_pred_labels = predicted_y\n",
        "pd.DataFrame(LightGBM_result).transpose()\n",
        "LightGBM_accuracy = pd.DataFrame(LightGBM_result).transpose()['precision'][0:10]\n",
        "# wirte pred result into csv\n",
        "#import csv\n",
        "#with open('LightGBMEpred.csv', ) "
      ],
      "metadata": {
        "colab": {
          "base_uri": "https://localhost:8080/"
        },
        "id": "iyWD8_ODlx9o",
        "outputId": "1feab05f-2723-4b46-ab31-b033e3b86423"
      },
      "execution_count": 17,
      "outputs": [
        {
          "output_type": "stream",
          "name": "stdout",
          "text": [
            "              precision    recall  f1-score   support\n",
            "\n",
            "           0       0.83      0.86      0.84      1000\n",
            "           1       0.99      0.97      0.98      1000\n",
            "           2       0.79      0.83      0.81      1000\n",
            "           3       0.89      0.90      0.90      1000\n",
            "           4       0.81      0.82      0.81      1000\n",
            "           5       0.98      0.97      0.98      1000\n",
            "           6       0.70      0.63      0.66      1000\n",
            "           7       0.95      0.97      0.96      1000\n",
            "           8       0.97      0.97      0.97      1000\n",
            "           9       0.96      0.96      0.96      1000\n",
            "\n",
            "    accuracy                           0.89     10000\n",
            "   macro avg       0.89      0.89      0.89     10000\n",
            "weighted avg       0.89      0.89      0.89     10000\n",
            "\n"
          ]
        }
      ]
    },
    {
      "cell_type": "code",
      "source": [
        "#LightGBM_accuracy"
      ],
      "metadata": {
        "id": "lI75FlHtpO_i"
      },
      "execution_count": 19,
      "outputs": []
    },
    {
      "cell_type": "code",
      "execution_count": null,
      "metadata": {
        "colab": {
          "base_uri": "https://localhost:8080/"
        },
        "id": "DovCJFYYPHYd",
        "outputId": "b25b3311-3fbf-496e-be2f-61342816c975"
      },
      "outputs": [
        {
          "name": "stderr",
          "output_type": "stream",
          "text": [
            "[Parallel(n_jobs=-1)]: Using backend LokyBackend with 4 concurrent workers.\n",
            "[Parallel(n_jobs=-1)]: Done   2 out of   2 | elapsed:  4.2min finished\n"
          ]
        }
      ],
      "source": [
        "#cv_results = cross_val_score(ltg_model, train_x, train_labels, cv=2, scoring='accuracy', n_jobs=-1, verbose=1)"
      ]
    },
    {
      "cell_type": "code",
      "execution_count": null,
      "metadata": {
        "colab": {
          "base_uri": "https://localhost:8080/"
        },
        "id": "Y895OCR6P_iJ",
        "outputId": "f1a444c3-3d64-4a31-8b66-58f56e7a362f"
      },
      "outputs": [
        {
          "data": {
            "text/plain": [
              "LGBMClassifier(objective='multiclass')"
            ]
          },
          "execution_count": 42,
          "metadata": {},
          "output_type": "execute_result"
        }
      ],
      "source": [
        "#ltg_model.fit(train_x, train_labels)"
      ]
    },
    {
      "cell_type": "code",
      "execution_count": null,
      "metadata": {
        "colab": {
          "base_uri": "https://localhost:8080/"
        },
        "id": "3OiJcqTcSQJd",
        "outputId": "30eccadb-e635-4da0-dd04-0222ae43ef69"
      },
      "outputs": [
        {
          "name": "stdout",
          "output_type": "stream",
          "text": [
            "[0.82833333 0.83206667]\n",
            "LGBMClassifier(learning_rate=0.01, max_depth=4, n_thread=4, num_class=10,\n",
            "               num_iteration=100, objective='multiclass', slient=False)\n"
          ]
        }
      ],
      "source": [
        "#print(cv_results)    \n",
        "#print(ltg_model)"
      ]
    },
    {
      "cell_type": "code",
      "execution_count": null,
      "metadata": {
        "colab": {
          "base_uri": "https://localhost:8080/"
        },
        "id": "kYZrmRQuSiV_",
        "outputId": "f98c91e6-a524-48ad-8c7a-8be6ab10da03"
      },
      "outputs": [
        {
          "name": "stdout",
          "output_type": "stream",
          "text": [
            "              precision    recall  f1-score   support\n",
            "\n",
            "           0       0.78      0.81      0.80      1000\n",
            "           1       0.99      0.91      0.95      1000\n",
            "           2       0.70      0.74      0.72      1000\n",
            "           3       0.78      0.88      0.83      1000\n",
            "           4       0.67      0.75      0.71      1000\n",
            "           5       0.98      0.88      0.93      1000\n",
            "           6       0.66      0.48      0.56      1000\n",
            "           7       0.87      0.92      0.89      1000\n",
            "           8       0.94      0.93      0.93      1000\n",
            "           9       0.88      0.94      0.91      1000\n",
            "\n",
            "    accuracy                           0.82     10000\n",
            "   macro avg       0.82      0.82      0.82     10000\n",
            "weighted avg       0.82      0.82      0.82     10000\n",
            "\n"
          ]
        }
      ],
      "source": [
        "#expected_y  = test_labels\n",
        "#predicted_y = ltg_model.predict(test_x)\n",
        "#print(metrics.classification_report(expected_y, predicted_y))"
      ]
    },
    {
      "cell_type": "code",
      "execution_count": null,
      "metadata": {
        "id": "IngEHAjBL3MW"
      },
      "outputs": [],
      "source": [
        ""
      ]
    },
    {
      "cell_type": "markdown",
      "metadata": {
        "id": "w-20yUKeL3MW"
      },
      "source": [
        "# LDA"
      ]
    },
    {
      "cell_type": "code",
      "execution_count": 20,
      "metadata": {
        "id": "d2xX0RUaL3MW"
      },
      "outputs": [],
      "source": [
        "from sklearn.discriminant_analysis import LinearDiscriminantAnalysis as LDA"
      ]
    },
    {
      "cell_type": "code",
      "execution_count": 22,
      "metadata": {
        "scrolled": true,
        "id": "HekH4PQWL3MX",
        "outputId": "432a26a7-765b-42ac-e031-1c943ab6daef",
        "colab": {
          "base_uri": "https://localhost:8080/"
        }
      },
      "outputs": [
        {
          "output_type": "stream",
          "name": "stdout",
          "text": [
            "              precision    recall  f1-score   support\n",
            "\n",
            "           0       0.81      0.78      0.79      1000\n",
            "           1       1.00      0.93      0.96      1000\n",
            "           2       0.70      0.68      0.69      1000\n",
            "           3       0.80      0.85      0.82      1000\n",
            "           4       0.70      0.74      0.72      1000\n",
            "           5       0.89      0.89      0.89      1000\n",
            "           6       0.54      0.56      0.55      1000\n",
            "           7       0.88      0.89      0.89      1000\n",
            "           8       0.94      0.92      0.93      1000\n",
            "           9       0.91      0.91      0.91      1000\n",
            "\n",
            "    accuracy                           0.82     10000\n",
            "   macro avg       0.82      0.82      0.82     10000\n",
            "weighted avg       0.82      0.82      0.82     10000\n",
            "\n"
          ]
        }
      ],
      "source": [
        "lda = LDA(n_components=9)\n",
        "expected_y  = test_labels\n",
        "lda_model = lda.fit(train_x, train_labels)\n",
        "predicted_y = lda_model.predict(test_x)\n",
        "lda_pred_y = predicted_y\n",
        "print(metrics.classification_report(expected_y, predicted_y))"
      ]
    },
    {
      "cell_type": "code",
      "execution_count": 23,
      "metadata": {
        "id": "LP95TqAuL3MX",
        "outputId": "5fddb52f-3708-40ae-d11b-c423b064eacc",
        "colab": {
          "base_uri": "https://localhost:8080/",
          "height": 457
        }
      },
      "outputs": [
        {
          "output_type": "execute_result",
          "data": {
            "text/plain": [
              "              precision  recall  f1-score     support\n",
              "0              0.808533  0.7770  0.792453   1000.0000\n",
              "1              0.996795  0.9330  0.963843   1000.0000\n",
              "2              0.703093  0.6820  0.692386   1000.0000\n",
              "3              0.801136  0.8460  0.822957   1000.0000\n",
              "4              0.700943  0.7430  0.721359   1000.0000\n",
              "5              0.886454  0.8900  0.888224   1000.0000\n",
              "6              0.544922  0.5580  0.551383   1000.0000\n",
              "7              0.883284  0.8930  0.888115   1000.0000\n",
              "8              0.935910  0.9200  0.927887   1000.0000\n",
              "9              0.913568  0.9090  0.911278   1000.0000\n",
              "accuracy       0.815100  0.8151  0.815100      0.8151\n",
              "macro avg      0.817464  0.8151  0.815989  10000.0000\n",
              "weighted avg   0.817464  0.8151  0.815989  10000.0000"
            ],
            "text/html": [
              "\n",
              "  <div id=\"df-ea7e8fab-07fe-437e-ae85-2c4d55ae141c\">\n",
              "    <div class=\"colab-df-container\">\n",
              "      <div>\n",
              "<style scoped>\n",
              "    .dataframe tbody tr th:only-of-type {\n",
              "        vertical-align: middle;\n",
              "    }\n",
              "\n",
              "    .dataframe tbody tr th {\n",
              "        vertical-align: top;\n",
              "    }\n",
              "\n",
              "    .dataframe thead th {\n",
              "        text-align: right;\n",
              "    }\n",
              "</style>\n",
              "<table border=\"1\" class=\"dataframe\">\n",
              "  <thead>\n",
              "    <tr style=\"text-align: right;\">\n",
              "      <th></th>\n",
              "      <th>precision</th>\n",
              "      <th>recall</th>\n",
              "      <th>f1-score</th>\n",
              "      <th>support</th>\n",
              "    </tr>\n",
              "  </thead>\n",
              "  <tbody>\n",
              "    <tr>\n",
              "      <th>0</th>\n",
              "      <td>0.808533</td>\n",
              "      <td>0.7770</td>\n",
              "      <td>0.792453</td>\n",
              "      <td>1000.0000</td>\n",
              "    </tr>\n",
              "    <tr>\n",
              "      <th>1</th>\n",
              "      <td>0.996795</td>\n",
              "      <td>0.9330</td>\n",
              "      <td>0.963843</td>\n",
              "      <td>1000.0000</td>\n",
              "    </tr>\n",
              "    <tr>\n",
              "      <th>2</th>\n",
              "      <td>0.703093</td>\n",
              "      <td>0.6820</td>\n",
              "      <td>0.692386</td>\n",
              "      <td>1000.0000</td>\n",
              "    </tr>\n",
              "    <tr>\n",
              "      <th>3</th>\n",
              "      <td>0.801136</td>\n",
              "      <td>0.8460</td>\n",
              "      <td>0.822957</td>\n",
              "      <td>1000.0000</td>\n",
              "    </tr>\n",
              "    <tr>\n",
              "      <th>4</th>\n",
              "      <td>0.700943</td>\n",
              "      <td>0.7430</td>\n",
              "      <td>0.721359</td>\n",
              "      <td>1000.0000</td>\n",
              "    </tr>\n",
              "    <tr>\n",
              "      <th>5</th>\n",
              "      <td>0.886454</td>\n",
              "      <td>0.8900</td>\n",
              "      <td>0.888224</td>\n",
              "      <td>1000.0000</td>\n",
              "    </tr>\n",
              "    <tr>\n",
              "      <th>6</th>\n",
              "      <td>0.544922</td>\n",
              "      <td>0.5580</td>\n",
              "      <td>0.551383</td>\n",
              "      <td>1000.0000</td>\n",
              "    </tr>\n",
              "    <tr>\n",
              "      <th>7</th>\n",
              "      <td>0.883284</td>\n",
              "      <td>0.8930</td>\n",
              "      <td>0.888115</td>\n",
              "      <td>1000.0000</td>\n",
              "    </tr>\n",
              "    <tr>\n",
              "      <th>8</th>\n",
              "      <td>0.935910</td>\n",
              "      <td>0.9200</td>\n",
              "      <td>0.927887</td>\n",
              "      <td>1000.0000</td>\n",
              "    </tr>\n",
              "    <tr>\n",
              "      <th>9</th>\n",
              "      <td>0.913568</td>\n",
              "      <td>0.9090</td>\n",
              "      <td>0.911278</td>\n",
              "      <td>1000.0000</td>\n",
              "    </tr>\n",
              "    <tr>\n",
              "      <th>accuracy</th>\n",
              "      <td>0.815100</td>\n",
              "      <td>0.8151</td>\n",
              "      <td>0.815100</td>\n",
              "      <td>0.8151</td>\n",
              "    </tr>\n",
              "    <tr>\n",
              "      <th>macro avg</th>\n",
              "      <td>0.817464</td>\n",
              "      <td>0.8151</td>\n",
              "      <td>0.815989</td>\n",
              "      <td>10000.0000</td>\n",
              "    </tr>\n",
              "    <tr>\n",
              "      <th>weighted avg</th>\n",
              "      <td>0.817464</td>\n",
              "      <td>0.8151</td>\n",
              "      <td>0.815989</td>\n",
              "      <td>10000.0000</td>\n",
              "    </tr>\n",
              "  </tbody>\n",
              "</table>\n",
              "</div>\n",
              "      <button class=\"colab-df-convert\" onclick=\"convertToInteractive('df-ea7e8fab-07fe-437e-ae85-2c4d55ae141c')\"\n",
              "              title=\"Convert this dataframe to an interactive table.\"\n",
              "              style=\"display:none;\">\n",
              "        \n",
              "  <svg xmlns=\"http://www.w3.org/2000/svg\" height=\"24px\"viewBox=\"0 0 24 24\"\n",
              "       width=\"24px\">\n",
              "    <path d=\"M0 0h24v24H0V0z\" fill=\"none\"/>\n",
              "    <path d=\"M18.56 5.44l.94 2.06.94-2.06 2.06-.94-2.06-.94-.94-2.06-.94 2.06-2.06.94zm-11 1L8.5 8.5l.94-2.06 2.06-.94-2.06-.94L8.5 2.5l-.94 2.06-2.06.94zm10 10l.94 2.06.94-2.06 2.06-.94-2.06-.94-.94-2.06-.94 2.06-2.06.94z\"/><path d=\"M17.41 7.96l-1.37-1.37c-.4-.4-.92-.59-1.43-.59-.52 0-1.04.2-1.43.59L10.3 9.45l-7.72 7.72c-.78.78-.78 2.05 0 2.83L4 21.41c.39.39.9.59 1.41.59.51 0 1.02-.2 1.41-.59l7.78-7.78 2.81-2.81c.8-.78.8-2.07 0-2.86zM5.41 20L4 18.59l7.72-7.72 1.47 1.35L5.41 20z\"/>\n",
              "  </svg>\n",
              "      </button>\n",
              "      \n",
              "  <style>\n",
              "    .colab-df-container {\n",
              "      display:flex;\n",
              "      flex-wrap:wrap;\n",
              "      gap: 12px;\n",
              "    }\n",
              "\n",
              "    .colab-df-convert {\n",
              "      background-color: #E8F0FE;\n",
              "      border: none;\n",
              "      border-radius: 50%;\n",
              "      cursor: pointer;\n",
              "      display: none;\n",
              "      fill: #1967D2;\n",
              "      height: 32px;\n",
              "      padding: 0 0 0 0;\n",
              "      width: 32px;\n",
              "    }\n",
              "\n",
              "    .colab-df-convert:hover {\n",
              "      background-color: #E2EBFA;\n",
              "      box-shadow: 0px 1px 2px rgba(60, 64, 67, 0.3), 0px 1px 3px 1px rgba(60, 64, 67, 0.15);\n",
              "      fill: #174EA6;\n",
              "    }\n",
              "\n",
              "    [theme=dark] .colab-df-convert {\n",
              "      background-color: #3B4455;\n",
              "      fill: #D2E3FC;\n",
              "    }\n",
              "\n",
              "    [theme=dark] .colab-df-convert:hover {\n",
              "      background-color: #434B5C;\n",
              "      box-shadow: 0px 1px 3px 1px rgba(0, 0, 0, 0.15);\n",
              "      filter: drop-shadow(0px 1px 2px rgba(0, 0, 0, 0.3));\n",
              "      fill: #FFFFFF;\n",
              "    }\n",
              "  </style>\n",
              "\n",
              "      <script>\n",
              "        const buttonEl =\n",
              "          document.querySelector('#df-ea7e8fab-07fe-437e-ae85-2c4d55ae141c button.colab-df-convert');\n",
              "        buttonEl.style.display =\n",
              "          google.colab.kernel.accessAllowed ? 'block' : 'none';\n",
              "\n",
              "        async function convertToInteractive(key) {\n",
              "          const element = document.querySelector('#df-ea7e8fab-07fe-437e-ae85-2c4d55ae141c');\n",
              "          const dataTable =\n",
              "            await google.colab.kernel.invokeFunction('convertToInteractive',\n",
              "                                                     [key], {});\n",
              "          if (!dataTable) return;\n",
              "\n",
              "          const docLinkHtml = 'Like what you see? Visit the ' +\n",
              "            '<a target=\"_blank\" href=https://colab.research.google.com/notebooks/data_table.ipynb>data table notebook</a>'\n",
              "            + ' to learn more about interactive tables.';\n",
              "          element.innerHTML = '';\n",
              "          dataTable['output_type'] = 'display_data';\n",
              "          await google.colab.output.renderOutput(dataTable, element);\n",
              "          const docLink = document.createElement('div');\n",
              "          docLink.innerHTML = docLinkHtml;\n",
              "          element.appendChild(docLink);\n",
              "        }\n",
              "      </script>\n",
              "    </div>\n",
              "  </div>\n",
              "  "
            ]
          },
          "metadata": {},
          "execution_count": 23
        }
      ],
      "source": [
        "report = metrics.classification_report(expected_y, predicted_y, output_dict=True)\n",
        "pd.DataFrame(report).transpose()"
      ]
    },
    {
      "cell_type": "code",
      "execution_count": 24,
      "metadata": {
        "id": "EfnEXIreL3MX"
      },
      "outputs": [],
      "source": [
        "LDA_pred_labels = predicted_y\n",
        "LDA_accuracy = pd.DataFrame(report).transpose()['precision'][0:9]"
      ]
    },
    {
      "cell_type": "code",
      "source": [
        "#LDA_accuracy"
      ],
      "metadata": {
        "id": "uynLOQQuq9jo"
      },
      "execution_count": 26,
      "outputs": []
    },
    {
      "cell_type": "code",
      "execution_count": null,
      "metadata": {
        "id": "2b5OSVGbL3MX"
      },
      "outputs": [],
      "source": [
        "# Multi-Classification - Support Vector Machine"
      ]
    },
    {
      "cell_type": "code",
      "execution_count": 27,
      "metadata": {
        "id": "derG8cI3L3MY"
      },
      "outputs": [],
      "source": [
        "from sklearn import svm\n",
        "import sklearn.model_selection as model_selection\n",
        "from sklearn.metrics import accuracy_score\n",
        "from sklearn.metrics import f1_score"
      ]
    },
    {
      "cell_type": "code",
      "execution_count": 28,
      "metadata": {
        "id": "dS36ZS8RL3MY",
        "outputId": "b184ef60-0e6a-412b-b8bb-0b46918db162",
        "colab": {
          "base_uri": "https://localhost:8080/"
        }
      },
      "outputs": [
        {
          "output_type": "stream",
          "name": "stdout",
          "text": [
            "Accuracy (Polynomial Kernel):  86.30\n",
            "F1 (Polynomial Kernel):  86.34\n"
          ]
        },
        {
          "output_type": "execute_result",
          "data": {
            "text/plain": [
              "array([[839,   0,  11,  27,   5,  23,  85,   0,  10,   0],\n",
              "       [ 10, 955,   1,  23,   2,   2,   7,   0,   0,   0],\n",
              "       [ 31,   0, 776,  11,  66,   8, 106,   0,   2,   0],\n",
              "       [ 29,   5,   6, 862,  26,  19,  46,   0,   7,   0],\n",
              "       [  3,   2,  98,  31, 758,   5,  97,   0,   6,   0],\n",
              "       [  0,   0,   0,   1,   0, 959,   0,  23,   1,  16],\n",
              "       [138,   1,  67,  20,  58,  20, 689,   0,   7,   0],\n",
              "       [  0,   0,   0,   0,   0,  67,   0, 913,   0,  20],\n",
              "       [ 10,   0,   6,   6,   3,  21,  10,   4, 940,   0],\n",
              "       [  2,   0,   0,   0,   0,  24,   0,  35,   0, 939]])"
            ]
          },
          "metadata": {},
          "execution_count": 28
        }
      ],
      "source": [
        "# Use Ploynomial kernel \n",
        "poly = svm.SVC(kernel='poly', degree=3, C=1).fit(train_x, train_labels)\n",
        "poly_pred = poly.predict(test_x)\n",
        "poly_accuracy = accuracy_score(test_labels, poly_pred)\n",
        "poly_f1 = f1_score(test_labels, poly_pred, average='weighted')\n",
        "print('Accuracy (Polynomial Kernel): ', \"%.2f\" % (poly_accuracy*100))\n",
        "print('F1 (Polynomial Kernel): ', \"%.2f\" % (poly_f1*100))\n",
        "\n",
        "from sklearn.metrics import confusion_matrix\n",
        "confusion_matrix(test_labels, poly_pred)\n"
      ]
    },
    {
      "cell_type": "code",
      "source": [
        ""
      ],
      "metadata": {
        "id": "AN43t70bxP6m"
      },
      "execution_count": null,
      "outputs": []
    },
    {
      "cell_type": "code",
      "source": [
        ""
      ],
      "metadata": {
        "id": "TlIGCIUsxQKs"
      },
      "execution_count": null,
      "outputs": []
    },
    {
      "cell_type": "code",
      "source": [
        "print(metrics.classification_report(test_labels, poly_pred))"
      ],
      "metadata": {
        "id": "DjSXiuOTpxoP",
        "colab": {
          "base_uri": "https://localhost:8080/"
        },
        "outputId": "3cfade3a-601d-413f-e364-00b47e96dfba"
      },
      "execution_count": 29,
      "outputs": [
        {
          "output_type": "stream",
          "name": "stdout",
          "text": [
            "              precision    recall  f1-score   support\n",
            "\n",
            "           0       0.79      0.84      0.81      1000\n",
            "           1       0.99      0.95      0.97      1000\n",
            "           2       0.80      0.78      0.79      1000\n",
            "           3       0.88      0.86      0.87      1000\n",
            "           4       0.83      0.76      0.79      1000\n",
            "           5       0.84      0.96      0.89      1000\n",
            "           6       0.66      0.69      0.68      1000\n",
            "           7       0.94      0.91      0.92      1000\n",
            "           8       0.97      0.94      0.95      1000\n",
            "           9       0.96      0.94      0.95      1000\n",
            "\n",
            "    accuracy                           0.86     10000\n",
            "   macro avg       0.87      0.86      0.86     10000\n",
            "weighted avg       0.87      0.86      0.86     10000\n",
            "\n"
          ]
        }
      ]
    },
    {
      "cell_type": "code",
      "source": [
        "SVM_pred_labels = poly_pred\n",
        "report = metrics.classification_report(test_labels, poly_pred, output_dict = True)\n",
        "SVM_accuracy = pd.DataFrame(report).transpose()['precision'][0:9]"
      ],
      "metadata": {
        "id": "dKFwZSm4u3hO"
      },
      "execution_count": 38,
      "outputs": []
    },
    {
      "cell_type": "code",
      "source": [
        "# Use C = 10\n",
        "poly2 = svm.SVC(kernel='poly', degree=3, C=10).fit(train_x, train_labels)\n",
        "poly_pred2 = poly2.predict(test_x)"
      ],
      "metadata": {
        "id": "GH0IcbCjxXgl"
      },
      "execution_count": 43,
      "outputs": []
    },
    {
      "cell_type": "code",
      "source": [
        "poly_accuracy2 = accuracy_score(test_labels, poly_pred2)\n",
        "#poly_f1 = f1_score(test_labels, poly_pred, average='weighted')\n",
        "print('Accuracy (Polynomial Kernel) C = 10: ', \"%.2f\" % (poly_accuracy2*100))\n",
        "#print('F1 (Polynomial Kernel): ', \"%.2f\" % (poly_f1*100))"
      ],
      "metadata": {
        "colab": {
          "base_uri": "https://localhost:8080/"
        },
        "id": "ExRcHdu40dBw",
        "outputId": "8f53d767-aebf-408d-bf6c-a67959aa1f0e"
      },
      "execution_count": 44,
      "outputs": [
        {
          "output_type": "stream",
          "name": "stdout",
          "text": [
            "Accuracy (Polynomial Kernel) C = 10:  88.08\n"
          ]
        }
      ]
    },
    {
      "cell_type": "code",
      "source": [
        "print(metrics.classification_report(test_labels, poly_pred2))"
      ],
      "metadata": {
        "colab": {
          "base_uri": "https://localhost:8080/"
        },
        "id": "v-bby1fVxXqM",
        "outputId": "f3dd638a-1c1e-4ed6-fec1-00b9616abfde"
      },
      "execution_count": 45,
      "outputs": [
        {
          "output_type": "stream",
          "name": "stdout",
          "text": [
            "              precision    recall  f1-score   support\n",
            "\n",
            "           0       0.79      0.85      0.82      1000\n",
            "           1       0.99      0.97      0.98      1000\n",
            "           2       0.79      0.82      0.81      1000\n",
            "           3       0.88      0.88      0.88      1000\n",
            "           4       0.84      0.78      0.81      1000\n",
            "           5       0.93      0.97      0.95      1000\n",
            "           6       0.72      0.69      0.70      1000\n",
            "           7       0.95      0.95      0.95      1000\n",
            "           8       0.97      0.95      0.96      1000\n",
            "           9       0.97      0.95      0.96      1000\n",
            "\n",
            "    accuracy                           0.88     10000\n",
            "   macro avg       0.88      0.88      0.88     10000\n",
            "weighted avg       0.88      0.88      0.88     10000\n",
            "\n"
          ]
        }
      ]
    },
    {
      "cell_type": "code",
      "source": [
        "# Use C = 100\n",
        "poly3 = svm.SVC(kernel='poly', degree=3, C=100).fit(train_x, train_labels)\n",
        "poly_pred3 = poly3.predict(test_x)"
      ],
      "metadata": {
        "id": "aVgYw2Z80qUd"
      },
      "execution_count": 47,
      "outputs": []
    },
    {
      "cell_type": "code",
      "source": [
        "poly_accuracy3 = accuracy_score(test_labels, poly_pred3)\n",
        "#poly_f1 = f1_score(test_labels, poly_pred, average='weighted')\n",
        "print('Accuracy (Polynomial Kernel) C = 100: ', \"%.2f\" % (poly_accuracy3*100))\n",
        "#print('F1 (Polynomial Kernel): ', \"%.2f\" % (poly_f1*100))"
      ],
      "metadata": {
        "colab": {
          "base_uri": "https://localhost:8080/"
        },
        "id": "l6iYFayC0qg7",
        "outputId": "49c3a5e1-6584-4d37-f2c9-0f03d0b08ec2"
      },
      "execution_count": 48,
      "outputs": [
        {
          "output_type": "stream",
          "name": "stdout",
          "text": [
            "Accuracy (Polynomial Kernel) C = 100:  88.05\n"
          ]
        }
      ]
    },
    {
      "cell_type": "code",
      "source": [
        "print(metrics.classification_report(test_labels, poly_pred3))"
      ],
      "metadata": {
        "colab": {
          "base_uri": "https://localhost:8080/"
        },
        "id": "bX4bDFIq0yPt",
        "outputId": "dfc597ba-393e-4173-c871-a90c7f027c65"
      },
      "execution_count": 49,
      "outputs": [
        {
          "output_type": "stream",
          "name": "stdout",
          "text": [
            "              precision    recall  f1-score   support\n",
            "\n",
            "           0       0.79      0.84      0.81      1000\n",
            "           1       0.98      0.98      0.98      1000\n",
            "           2       0.78      0.82      0.80      1000\n",
            "           3       0.89      0.86      0.87      1000\n",
            "           4       0.83      0.80      0.81      1000\n",
            "           5       0.95      0.96      0.95      1000\n",
            "           6       0.73      0.69      0.71      1000\n",
            "           7       0.95      0.94      0.95      1000\n",
            "           8       0.97      0.96      0.96      1000\n",
            "           9       0.96      0.96      0.96      1000\n",
            "\n",
            "    accuracy                           0.88     10000\n",
            "   macro avg       0.88      0.88      0.88     10000\n",
            "weighted avg       0.88      0.88      0.88     10000\n",
            "\n"
          ]
        }
      ]
    },
    {
      "cell_type": "code",
      "source": [
        ""
      ],
      "metadata": {
        "id": "hlgzk3As1BlP"
      },
      "execution_count": null,
      "outputs": []
    },
    {
      "cell_type": "code",
      "source": [
        ""
      ],
      "metadata": {
        "id": "7P_JS0aQxXyk"
      },
      "execution_count": null,
      "outputs": []
    },
    {
      "cell_type": "code",
      "source": [
        "# to get the precision dictionary\n",
        "out = {}\n",
        "for i in range(0,10):\n",
        "    out.update({i:round(report[str(i)]['precision'],2)})"
      ],
      "metadata": {
        "id": "csOPBOokuLuJ"
      },
      "execution_count": 30,
      "outputs": []
    },
    {
      "cell_type": "code",
      "source": [
        "out"
      ],
      "metadata": {
        "colab": {
          "base_uri": "https://localhost:8080/"
        },
        "id": "oATNjjOUuZPW",
        "outputId": "2452b16b-b64b-46ed-d8a0-13f11d408000"
      },
      "execution_count": 33,
      "outputs": [
        {
          "output_type": "execute_result",
          "data": {
            "text/plain": [
              "{0: 0.81,\n",
              " 1: 1.0,\n",
              " 2: 0.7,\n",
              " 3: 0.8,\n",
              " 4: 0.7,\n",
              " 5: 0.89,\n",
              " 6: 0.54,\n",
              " 7: 0.88,\n",
              " 8: 0.94,\n",
              " 9: 0.91}"
            ]
          },
          "metadata": {},
          "execution_count": 33
        }
      ]
    },
    {
      "cell_type": "code",
      "source": [
        "# create df of y_pred of test set for each model LightGBM_pred_labels\n",
        "y_pred_test = pd.concat([pd.DataFrame(LightGBM_pred_labels, columns = ['LightGBM']),\n",
        "           pd.DataFrame(LDA_pred_labels, columns = ['LDA']), \n",
        "           pd.DataFrame(SVM_pred_labels, columns = ['SVM'])],axis=1)"
      ],
      "metadata": {
        "id": "-Nf_AtXowHnL"
      },
      "execution_count": 41,
      "outputs": []
    },
    {
      "cell_type": "code",
      "source": [
        "y_pred_test.to_csv('y_pred_test.csv')"
      ],
      "metadata": {
        "id": "CFSljBdCwqOw"
      },
      "execution_count": 42,
      "outputs": []
    },
    {
      "cell_type": "code",
      "source": [
        "## Logistic Regression"
      ],
      "metadata": {
        "id": "02arqMyXpxqj"
      },
      "execution_count": null,
      "outputs": []
    },
    {
      "cell_type": "code",
      "execution_count": null,
      "metadata": {
        "id": "Rut2hyJQL3MY",
        "colab": {
          "base_uri": "https://localhost:8080/"
        },
        "outputId": "a673196b-8487-426d-cf33-a61b3543e6ee"
      },
      "outputs": [
        {
          "output_type": "execute_result",
          "data": {
            "text/plain": [
              "LogisticRegression(max_iter=200, solver='liblinear')"
            ]
          },
          "metadata": {},
          "execution_count": 16
        }
      ],
      "source": [
        "from sklearn.linear_model import LogisticRegression\n",
        "logistic = LogisticRegression(max_iter=200, solver='liblinear')\n",
        "logistic.fit(train_x, train_labels)"
      ]
    },
    {
      "cell_type": "code",
      "execution_count": null,
      "metadata": {
        "id": "12dRA-KjL3MY",
        "colab": {
          "base_uri": "https://localhost:8080/"
        },
        "outputId": "8c3f99fc-02b4-40c0-a39d-49a8e3fd2817"
      },
      "outputs": [
        {
          "output_type": "stream",
          "name": "stdout",
          "text": [
            "Train Accuracy score: 0.8732166666666666\n",
            "Test Accuracy score: 0.8412\n",
            "              precision    recall  f1-score   support\n",
            "\n",
            "           0       0.79      0.82      0.80      1000\n",
            "           1       0.97      0.95      0.96      1000\n",
            "           2       0.72      0.73      0.73      1000\n",
            "           3       0.82      0.87      0.84      1000\n",
            "           4       0.72      0.76      0.74      1000\n",
            "           5       0.94      0.92      0.93      1000\n",
            "           6       0.64      0.54      0.59      1000\n",
            "           7       0.90      0.94      0.92      1000\n",
            "           8       0.93      0.95      0.94      1000\n",
            "           9       0.95      0.94      0.95      1000\n",
            "\n",
            "    accuracy                           0.84     10000\n",
            "   macro avg       0.84      0.84      0.84     10000\n",
            "weighted avg       0.84      0.84      0.84     10000\n",
            "\n"
          ]
        }
      ],
      "source": [
        "y_train_lr = logistic.predict(train_x)\n",
        "y_pred_lr = logistic.predict(test_x)\n",
        "logistic_train = metrics.accuracy_score(train_labels,y_train_lr )\n",
        "logistic_accuracy = metrics.accuracy_score(test_labels, y_pred_lr)\n",
        "\n",
        "print(\"Train Accuracy score: {}\".format(logistic_train))\n",
        "print(\"Test Accuracy score: {}\".format(logistic_accuracy))\n",
        "print(metrics.classification_report(test_labels, y_pred_lr))"
      ]
    },
    {
      "cell_type": "code",
      "source": [
        ""
      ],
      "metadata": {
        "id": "41fApdYtfddw"
      },
      "execution_count": null,
      "outputs": []
    }
  ],
  "metadata": {
    "colab": {
      "collapsed_sections": [],
      "name": "stat542_proj.ipynb",
      "provenance": [],
      "include_colab_link": true
    },
    "kernelspec": {
      "display_name": "Python 3 (ipykernel)",
      "language": "python",
      "name": "python3"
    },
    "language_info": {
      "codemirror_mode": {
        "name": "ipython",
        "version": 3
      },
      "file_extension": ".py",
      "mimetype": "text/x-python",
      "name": "python",
      "nbconvert_exporter": "python",
      "pygments_lexer": "ipython3",
      "version": "3.9.7"
    }
  },
  "nbformat": 4,
  "nbformat_minor": 0
}