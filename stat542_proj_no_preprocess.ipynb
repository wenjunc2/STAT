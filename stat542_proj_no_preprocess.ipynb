{
  "cells": [
    {
      "cell_type": "code",
      "execution_count": 1,
      "id": "5a1d974f",
      "metadata": {
        "id": "5a1d974f"
      },
      "outputs": [],
      "source": [
        "import pandas as pd\n",
        "import numpy as np\n",
        "\n",
        "from sklearn.datasets import make_classification\n",
        "from sklearn.model_selection import cross_val_score\n",
        "\n",
        "from sklearn import metrics"
      ]
    },
    {
      "cell_type": "code",
      "execution_count": 2,
      "id": "9ae9c97b",
      "metadata": {
        "id": "9ae9c97b"
      },
      "outputs": [],
      "source": [
        "import tensorflow as tf\n",
        "from tensorflow.keras.datasets import fashion_mnist"
      ]
    },
    {
      "cell_type": "code",
      "execution_count": null,
      "id": "fcd100f6",
      "metadata": {
        "id": "fcd100f6"
      },
      "outputs": [],
      "source": [
        ""
      ]
    },
    {
      "cell_type": "code",
      "execution_count": 3,
      "id": "fb7a6af0",
      "metadata": {
        "id": "fb7a6af0",
        "outputId": "c109ac6c-cdc7-4dae-cf67-bb3e4c8e2682",
        "colab": {
          "base_uri": "https://localhost:8080/"
        }
      },
      "outputs": [
        {
          "output_type": "stream",
          "name": "stdout",
          "text": [
            "Downloading data from https://storage.googleapis.com/tensorflow/tf-keras-datasets/train-labels-idx1-ubyte.gz\n",
            "32768/29515 [=================================] - 0s 0us/step\n",
            "40960/29515 [=========================================] - 0s 0us/step\n",
            "Downloading data from https://storage.googleapis.com/tensorflow/tf-keras-datasets/train-images-idx3-ubyte.gz\n",
            "26427392/26421880 [==============================] - 0s 0us/step\n",
            "26435584/26421880 [==============================] - 0s 0us/step\n",
            "Downloading data from https://storage.googleapis.com/tensorflow/tf-keras-datasets/t10k-labels-idx1-ubyte.gz\n",
            "16384/5148 [===============================================================================================] - 0s 0us/step\n",
            "Downloading data from https://storage.googleapis.com/tensorflow/tf-keras-datasets/t10k-images-idx3-ubyte.gz\n",
            "4423680/4422102 [==============================] - 0s 0us/step\n",
            "4431872/4422102 [==============================] - 0s 0us/step\n"
          ]
        }
      ],
      "source": [
        "# import data\n",
        "(train_data, train_labels), (test_data, test_labels) = fashion_mnist.load_data()"
      ]
    },
    {
      "cell_type": "code",
      "execution_count": 4,
      "id": "6125abcb",
      "metadata": {
        "id": "6125abcb"
      },
      "outputs": [],
      "source": [
        "train_x = train_data.reshape(train_data.shape[0], -1).astype('float32')\n",
        "test_x = test_data.reshape(test_data.shape[0], -1).astype('float32')"
      ]
    },
    {
      "cell_type": "code",
      "execution_count": null,
      "id": "1e20b359",
      "metadata": {
        "id": "1e20b359"
      },
      "outputs": [],
      "source": [
        ""
      ]
    },
    {
      "cell_type": "markdown",
      "id": "b89cfd2d",
      "metadata": {
        "id": "b89cfd2d"
      },
      "source": [
        "# LightGBM"
      ]
    },
    {
      "cell_type": "code",
      "execution_count": null,
      "id": "38a2fbf7",
      "metadata": {
        "id": "38a2fbf7"
      },
      "outputs": [],
      "source": [
        "from lightgbm import LGBMClassifier"
      ]
    },
    {
      "cell_type": "code",
      "execution_count": null,
      "id": "d872b9b3",
      "metadata": {
        "id": "d872b9b3"
      },
      "outputs": [],
      "source": [
        "# dont run this part, i'm still tuning\n",
        "err_list = []\n",
        "for i in np.arange(0.0, 1.0, 0.1):\n",
        "    model = LGBMClassifier(objective='multiclass',path_smooth = i)\n",
        "    model.fit(X_train,y_train,categorical_feature=[0,3])\n",
        "    predictions = model.predict(X_test)\n",
        "    error = sum(predictions!=y_test)/len(y_test)\n",
        "    err_list.append(error)\n",
        "err_list"
      ]
    },
    {
      "cell_type": "code",
      "execution_count": null,
      "id": "542b30b3",
      "metadata": {
        "id": "542b30b3"
      },
      "outputs": [],
      "source": [
        "lgb_model = LGBMClassifier(objective='multiclass',path_smooth = 0.5)"
      ]
    },
    {
      "cell_type": "code",
      "execution_count": null,
      "id": "b4059e5e",
      "metadata": {
        "id": "b4059e5e",
        "outputId": "ca1b224b-54b8-4e37-cf52-a4d8368268f3"
      },
      "outputs": [
        {
          "name": "stderr",
          "output_type": "stream",
          "text": [
            "C:\\Users\\asus\\anaconda3\\lib\\site-packages\\lightgbm\\basic.py:2065: UserWarning: Using categorical_feature in Dataset.\n",
            "  _log_warning('Using categorical_feature in Dataset.')\n"
          ]
        },
        {
          "data": {
            "text/plain": [
              "LGBMClassifier(objective='multiclass', path_smooth=0.5)"
            ]
          },
          "execution_count": 182,
          "metadata": {},
          "output_type": "execute_result"
        }
      ],
      "source": [
        "lgb_model.fit(train_x,train_labels,categorical_feature=[0,3])"
      ]
    },
    {
      "cell_type": "code",
      "execution_count": null,
      "id": "256ee1d6",
      "metadata": {
        "id": "256ee1d6",
        "outputId": "3463c2f6-5492-47c1-f69c-87b506686506"
      },
      "outputs": [
        {
          "name": "stdout",
          "output_type": "stream",
          "text": [
            "              precision    recall  f1-score   support\n",
            "\n",
            "           0       0.84      0.86      0.85      1000\n",
            "           1       1.00      0.97      0.98      1000\n",
            "           2       0.79      0.83      0.81      1000\n",
            "           3       0.90      0.91      0.90      1000\n",
            "           4       0.81      0.82      0.82      1000\n",
            "           5       0.99      0.97      0.98      1000\n",
            "           6       0.72      0.66      0.69      1000\n",
            "           7       0.94      0.97      0.96      1000\n",
            "           8       0.98      0.98      0.98      1000\n",
            "           9       0.97      0.96      0.96      1000\n",
            "\n",
            "    accuracy                           0.89     10000\n",
            "   macro avg       0.89      0.89      0.89     10000\n",
            "weighted avg       0.89      0.89      0.89     10000\n",
            "\n"
          ]
        }
      ],
      "source": [
        "expected_y  = test_labels\n",
        "predicted_y = lgb_model.predict(test_x)\n",
        "lightGBM_pred_y = predicted_y\n",
        "print(metrics.classification_report(expected_y, predicted_y))"
      ]
    },
    {
      "cell_type": "code",
      "execution_count": null,
      "id": "aa60f447",
      "metadata": {
        "id": "aa60f447"
      },
      "outputs": [],
      "source": [
        ""
      ]
    },
    {
      "cell_type": "code",
      "execution_count": null,
      "id": "14c17152",
      "metadata": {
        "id": "14c17152"
      },
      "outputs": [],
      "source": [
        ""
      ]
    },
    {
      "cell_type": "code",
      "execution_count": null,
      "id": "bc9be5ce",
      "metadata": {
        "id": "bc9be5ce"
      },
      "outputs": [],
      "source": [
        "import matplotlib.pyplot as plt\n",
        "import numpy as np"
      ]
    },
    {
      "cell_type": "code",
      "execution_count": null,
      "id": "464647a7",
      "metadata": {
        "id": "464647a7",
        "outputId": "4a975c46-57b6-4915-aacf-b5eac4c16978"
      },
      "outputs": [
        {
          "data": {
            "image/png": "[encoded data removed]",
            "text/plain": [
              "<Figure size 640x480 with 1 Axes>"
            ]
          },
          "metadata": {},
          "output_type": "display_data"
        }
      ],
      "source": [
        "tune = np.arange(0.0, 1.0, 0.1)\n",
        "error = np.array(err_list)\n",
        "\n",
        "plt.style.use(\"fivethirtyeight\")\n",
        "plt.plot(tune, error)\n",
        "\n",
        "plt.xlabel(\"Misclassification Error Rate\")\n",
        "plt.ylabel(\"Path Smooth\")\n",
        "\n",
        "plt.show()"
      ]
    },
    {
      "cell_type": "code",
      "execution_count": null,
      "id": "bceac897",
      "metadata": {
        "id": "bceac897"
      },
      "outputs": [],
      "source": [
        ""
      ]
    },
    {
      "cell_type": "code",
      "execution_count": null,
      "id": "87f69597",
      "metadata": {
        "id": "87f69597"
      },
      "outputs": [],
      "source": [
        ""
      ]
    },
    {
      "cell_type": "markdown",
      "id": "23429c60",
      "metadata": {
        "id": "23429c60"
      },
      "source": [
        "# LDA"
      ]
    },
    {
      "cell_type": "code",
      "execution_count": null,
      "id": "abfbf016",
      "metadata": {
        "id": "abfbf016"
      },
      "outputs": [],
      "source": [
        "from sklearn.discriminant_analysis import LinearDiscriminantAnalysis as LDA"
      ]
    },
    {
      "cell_type": "code",
      "execution_count": null,
      "id": "8a6b7f7a",
      "metadata": {
        "id": "8a6b7f7a"
      },
      "outputs": [],
      "source": [
        "lda = LDA(n_components=9)"
      ]
    },
    {
      "cell_type": "code",
      "execution_count": null,
      "id": "f4823097",
      "metadata": {
        "id": "f4823097",
        "outputId": "e4befe5f-4db7-4880-f53c-7c87b60fac2a"
      },
      "outputs": [
        {
          "name": "stdout",
          "output_type": "stream",
          "text": [
            "              precision    recall  f1-score   support\n",
            "\n",
            "           0       0.81      0.78      0.79      1000\n",
            "           1       1.00      0.93      0.96      1000\n",
            "           2       0.70      0.68      0.69      1000\n",
            "           3       0.80      0.85      0.82      1000\n",
            "           4       0.70      0.74      0.72      1000\n",
            "           5       0.89      0.89      0.89      1000\n",
            "           6       0.54      0.56      0.55      1000\n",
            "           7       0.88      0.89      0.89      1000\n",
            "           8       0.94      0.92      0.93      1000\n",
            "           9       0.91      0.91      0.91      1000\n",
            "\n",
            "    accuracy                           0.82     10000\n",
            "   macro avg       0.82      0.82      0.82     10000\n",
            "weighted avg       0.82      0.82      0.82     10000\n",
            "\n"
          ]
        }
      ],
      "source": [
        "expected_y  = test_labels\n",
        "lda_model = lda.fit(train_x, train_labels)\n",
        "predicted_y = lda_model.predict(test_x)\n",
        "lda_pred_y = predicted_y\n",
        "print(metrics.classification_report(expected_y, predicted_y))"
      ]
    },
    {
      "cell_type": "code",
      "execution_count": null,
      "id": "435896e9",
      "metadata": {
        "id": "435896e9",
        "outputId": "76ac852d-d78d-4b59-8eb1-02ceb4d0ce78"
      },
      "outputs": [
        {
          "data": {
            "text/html": [
              "<div>\n",
              "<style scoped>\n",
              "    .dataframe tbody tr th:only-of-type {\n",
              "        vertical-align: middle;\n",
              "    }\n",
              "\n",
              "    .dataframe tbody tr th {\n",
              "        vertical-align: top;\n",
              "    }\n",
              "\n",
              "    .dataframe thead th {\n",
              "        text-align: right;\n",
              "    }\n",
              "</style>\n",
              "<table border=\"1\" class=\"dataframe\">\n",
              "  <thead>\n",
              "    <tr style=\"text-align: right;\">\n",
              "      <th></th>\n",
              "      <th>precision</th>\n",
              "      <th>recall</th>\n",
              "      <th>f1-score</th>\n",
              "      <th>support</th>\n",
              "    </tr>\n",
              "  </thead>\n",
              "  <tbody>\n",
              "    <tr>\n",
              "      <th>0</th>\n",
              "      <td>0.808533</td>\n",
              "      <td>0.7770</td>\n",
              "      <td>0.792453</td>\n",
              "      <td>1000.0000</td>\n",
              "    </tr>\n",
              "    <tr>\n",
              "      <th>1</th>\n",
              "      <td>0.996795</td>\n",
              "      <td>0.9330</td>\n",
              "      <td>0.963843</td>\n",
              "      <td>1000.0000</td>\n",
              "    </tr>\n",
              "    <tr>\n",
              "      <th>2</th>\n",
              "      <td>0.703093</td>\n",
              "      <td>0.6820</td>\n",
              "      <td>0.692386</td>\n",
              "      <td>1000.0000</td>\n",
              "    </tr>\n",
              "    <tr>\n",
              "      <th>3</th>\n",
              "      <td>0.801136</td>\n",
              "      <td>0.8460</td>\n",
              "      <td>0.822957</td>\n",
              "      <td>1000.0000</td>\n",
              "    </tr>\n",
              "    <tr>\n",
              "      <th>4</th>\n",
              "      <td>0.700943</td>\n",
              "      <td>0.7430</td>\n",
              "      <td>0.721359</td>\n",
              "      <td>1000.0000</td>\n",
              "    </tr>\n",
              "    <tr>\n",
              "      <th>5</th>\n",
              "      <td>0.886454</td>\n",
              "      <td>0.8900</td>\n",
              "      <td>0.888224</td>\n",
              "      <td>1000.0000</td>\n",
              "    </tr>\n",
              "    <tr>\n",
              "      <th>6</th>\n",
              "      <td>0.544922</td>\n",
              "      <td>0.5580</td>\n",
              "      <td>0.551383</td>\n",
              "      <td>1000.0000</td>\n",
              "    </tr>\n",
              "    <tr>\n",
              "      <th>7</th>\n",
              "      <td>0.883284</td>\n",
              "      <td>0.8930</td>\n",
              "      <td>0.888115</td>\n",
              "      <td>1000.0000</td>\n",
              "    </tr>\n",
              "    <tr>\n",
              "      <th>8</th>\n",
              "      <td>0.935910</td>\n",
              "      <td>0.9200</td>\n",
              "      <td>0.927887</td>\n",
              "      <td>1000.0000</td>\n",
              "    </tr>\n",
              "    <tr>\n",
              "      <th>9</th>\n",
              "      <td>0.913568</td>\n",
              "      <td>0.9090</td>\n",
              "      <td>0.911278</td>\n",
              "      <td>1000.0000</td>\n",
              "    </tr>\n",
              "    <tr>\n",
              "      <th>accuracy</th>\n",
              "      <td>0.815100</td>\n",
              "      <td>0.8151</td>\n",
              "      <td>0.815100</td>\n",
              "      <td>0.8151</td>\n",
              "    </tr>\n",
              "    <tr>\n",
              "      <th>macro avg</th>\n",
              "      <td>0.817464</td>\n",
              "      <td>0.8151</td>\n",
              "      <td>0.815989</td>\n",
              "      <td>10000.0000</td>\n",
              "    </tr>\n",
              "    <tr>\n",
              "      <th>weighted avg</th>\n",
              "      <td>0.817464</td>\n",
              "      <td>0.8151</td>\n",
              "      <td>0.815989</td>\n",
              "      <td>10000.0000</td>\n",
              "    </tr>\n",
              "  </tbody>\n",
              "</table>\n",
              "</div>"
            ],
            "text/plain": [
              "              precision  recall  f1-score     support\n",
              "0              0.808533  0.7770  0.792453   1000.0000\n",
              "1              0.996795  0.9330  0.963843   1000.0000\n",
              "2              0.703093  0.6820  0.692386   1000.0000\n",
              "3              0.801136  0.8460  0.822957   1000.0000\n",
              "4              0.700943  0.7430  0.721359   1000.0000\n",
              "5              0.886454  0.8900  0.888224   1000.0000\n",
              "6              0.544922  0.5580  0.551383   1000.0000\n",
              "7              0.883284  0.8930  0.888115   1000.0000\n",
              "8              0.935910  0.9200  0.927887   1000.0000\n",
              "9              0.913568  0.9090  0.911278   1000.0000\n",
              "accuracy       0.815100  0.8151  0.815100      0.8151\n",
              "macro avg      0.817464  0.8151  0.815989  10000.0000\n",
              "weighted avg   0.817464  0.8151  0.815989  10000.0000"
            ]
          },
          "execution_count": 140,
          "metadata": {},
          "output_type": "execute_result"
        }
      ],
      "source": [
        "report = metrics.classification_report(expected_y, predicted_y, output_dict=True)\n",
        "pd.DataFrame(report).transpose()"
      ]
    },
    {
      "cell_type": "code",
      "execution_count": null,
      "id": "fb5448f9",
      "metadata": {
        "id": "fb5448f9"
      },
      "outputs": [],
      "source": [
        ""
      ]
    },
    {
      "cell_type": "markdown",
      "id": "87067edd",
      "metadata": {
        "id": "87067edd"
      },
      "source": [
        "# SVM"
      ]
    },
    {
      "cell_type": "code",
      "execution_count": 5,
      "id": "416cccde",
      "metadata": {
        "id": "416cccde"
      },
      "outputs": [],
      "source": [
        "from sklearn import svm\n",
        "import sklearn.model_selection as model_selection\n",
        "from sklearn.metrics import accuracy_score\n",
        "from sklearn.metrics import f1_score"
      ]
    },
    {
      "cell_type": "code",
      "execution_count": 6,
      "id": "184de6fd",
      "metadata": {
        "id": "184de6fd"
      },
      "outputs": [],
      "source": [
        "# Use Ploynomial kernel \n",
        "svmpoly = svm.SVC(kernel='poly', degree=3, C=10).fit(train_x, train_labels)"
      ]
    },
    {
      "cell_type": "code",
      "execution_count": 7,
      "id": "082873d4",
      "metadata": {
        "id": "082873d4",
        "outputId": "3b379b8e-6231-4ed5-9b83-0d0cd9fd268e",
        "colab": {
          "base_uri": "https://localhost:8080/"
        }
      },
      "outputs": [
        {
          "output_type": "stream",
          "name": "stdout",
          "text": [
            "              precision    recall  f1-score   support\n",
            "\n",
            "           0       0.79      0.85      0.82      1000\n",
            "           1       0.99      0.97      0.98      1000\n",
            "           2       0.79      0.82      0.81      1000\n",
            "           3       0.88      0.88      0.88      1000\n",
            "           4       0.84      0.78      0.81      1000\n",
            "           5       0.93      0.97      0.95      1000\n",
            "           6       0.72      0.69      0.70      1000\n",
            "           7       0.95      0.95      0.95      1000\n",
            "           8       0.97      0.95      0.96      1000\n",
            "           9       0.97      0.95      0.96      1000\n",
            "\n",
            "    accuracy                           0.88     10000\n",
            "   macro avg       0.88      0.88      0.88     10000\n",
            "weighted avg       0.88      0.88      0.88     10000\n",
            "\n"
          ]
        }
      ],
      "source": [
        "expected_y  = test_labels\n",
        "predicted_y = svmpoly.predict(test_x)\n",
        "SVM_pred_y = predicted_y\n",
        "print(metrics.classification_report(expected_y, predicted_y))"
      ]
    },
    {
      "cell_type": "code",
      "execution_count": 8,
      "id": "c8926f00",
      "metadata": {
        "id": "c8926f00",
        "outputId": "4beb8c03-4878-45c7-808f-6c069a021e3a",
        "colab": {
          "base_uri": "https://localhost:8080/",
          "height": 457
        }
      },
      "outputs": [
        {
          "output_type": "execute_result",
          "data": {
            "text/plain": [
              "              precision  recall  f1-score     support\n",
              "0              0.787766  0.8500  0.817701   1000.0000\n",
              "1              0.985801  0.9720  0.978852   1000.0000\n",
              "2              0.791506  0.8200  0.805501   1000.0000\n",
              "3              0.875125  0.8760  0.875562   1000.0000\n",
              "4              0.841081  0.7780  0.808312   1000.0000\n",
              "5              0.925287  0.9660  0.945205   1000.0000\n",
              "6              0.720126  0.6870  0.703173   1000.0000\n",
              "7              0.948156  0.9510  0.949576   1000.0000\n",
              "8              0.967579  0.9550  0.961248   1000.0000\n",
              "9              0.967513  0.9530  0.960202   1000.0000\n",
              "accuracy       0.880800  0.8808  0.880800      0.8808\n",
              "macro avg      0.880994  0.8808  0.880533  10000.0000\n",
              "weighted avg   0.880994  0.8808  0.880533  10000.0000"
            ],
            "text/html": [
              "\n",
              "  <div id=\"df-c55a5c9e-66f9-4f04-9f79-6351e706c8ad\">\n",
              "    <div class=\"colab-df-container\">\n",
              "      <div>\n",
              "<style scoped>\n",
              "    .dataframe tbody tr th:only-of-type {\n",
              "        vertical-align: middle;\n",
              "    }\n",
              "\n",
              "    .dataframe tbody tr th {\n",
              "        vertical-align: top;\n",
              "    }\n",
              "\n",
              "    .dataframe thead th {\n",
              "        text-align: right;\n",
              "    }\n",
              "</style>\n",
              "<table border=\"1\" class=\"dataframe\">\n",
              "  <thead>\n",
              "    <tr style=\"text-align: right;\">\n",
              "      <th></th>\n",
              "      <th>precision</th>\n",
              "      <th>recall</th>\n",
              "      <th>f1-score</th>\n",
              "      <th>support</th>\n",
              "    </tr>\n",
              "  </thead>\n",
              "  <tbody>\n",
              "    <tr>\n",
              "      <th>0</th>\n",
              "      <td>0.787766</td>\n",
              "      <td>0.8500</td>\n",
              "      <td>0.817701</td>\n",
              "      <td>1000.0000</td>\n",
              "    </tr>\n",
              "    <tr>\n",
              "      <th>1</th>\n",
              "      <td>0.985801</td>\n",
              "      <td>0.9720</td>\n",
              "      <td>0.978852</td>\n",
              "      <td>1000.0000</td>\n",
              "    </tr>\n",
              "    <tr>\n",
              "      <th>2</th>\n",
              "      <td>0.791506</td>\n",
              "      <td>0.8200</td>\n",
              "      <td>0.805501</td>\n",
              "      <td>1000.0000</td>\n",
              "    </tr>\n",
              "    <tr>\n",
              "      <th>3</th>\n",
              "      <td>0.875125</td>\n",
              "      <td>0.8760</td>\n",
              "      <td>0.875562</td>\n",
              "      <td>1000.0000</td>\n",
              "    </tr>\n",
              "    <tr>\n",
              "      <th>4</th>\n",
              "      <td>0.841081</td>\n",
              "      <td>0.7780</td>\n",
              "      <td>0.808312</td>\n",
              "      <td>1000.0000</td>\n",
              "    </tr>\n",
              "    <tr>\n",
              "      <th>5</th>\n",
              "      <td>0.925287</td>\n",
              "      <td>0.9660</td>\n",
              "      <td>0.945205</td>\n",
              "      <td>1000.0000</td>\n",
              "    </tr>\n",
              "    <tr>\n",
              "      <th>6</th>\n",
              "      <td>0.720126</td>\n",
              "      <td>0.6870</td>\n",
              "      <td>0.703173</td>\n",
              "      <td>1000.0000</td>\n",
              "    </tr>\n",
              "    <tr>\n",
              "      <th>7</th>\n",
              "      <td>0.948156</td>\n",
              "      <td>0.9510</td>\n",
              "      <td>0.949576</td>\n",
              "      <td>1000.0000</td>\n",
              "    </tr>\n",
              "    <tr>\n",
              "      <th>8</th>\n",
              "      <td>0.967579</td>\n",
              "      <td>0.9550</td>\n",
              "      <td>0.961248</td>\n",
              "      <td>1000.0000</td>\n",
              "    </tr>\n",
              "    <tr>\n",
              "      <th>9</th>\n",
              "      <td>0.967513</td>\n",
              "      <td>0.9530</td>\n",
              "      <td>0.960202</td>\n",
              "      <td>1000.0000</td>\n",
              "    </tr>\n",
              "    <tr>\n",
              "      <th>accuracy</th>\n",
              "      <td>0.880800</td>\n",
              "      <td>0.8808</td>\n",
              "      <td>0.880800</td>\n",
              "      <td>0.8808</td>\n",
              "    </tr>\n",
              "    <tr>\n",
              "      <th>macro avg</th>\n",
              "      <td>0.880994</td>\n",
              "      <td>0.8808</td>\n",
              "      <td>0.880533</td>\n",
              "      <td>10000.0000</td>\n",
              "    </tr>\n",
              "    <tr>\n",
              "      <th>weighted avg</th>\n",
              "      <td>0.880994</td>\n",
              "      <td>0.8808</td>\n",
              "      <td>0.880533</td>\n",
              "      <td>10000.0000</td>\n",
              "    </tr>\n",
              "  </tbody>\n",
              "</table>\n",
              "</div>\n",
              "      <button class=\"colab-df-convert\" onclick=\"convertToInteractive('df-c55a5c9e-66f9-4f04-9f79-6351e706c8ad')\"\n",
              "              title=\"Convert this dataframe to an interactive table.\"\n",
              "              style=\"display:none;\">\n",
              "        \n",
              "  <svg xmlns=\"http://www.w3.org/2000/svg\" height=\"24px\"viewBox=\"0 0 24 24\"\n",
              "       width=\"24px\">\n",
              "    <path d=\"M0 0h24v24H0V0z\" fill=\"none\"/>\n",
              "    <path d=\"M18.56 5.44l.94 2.06.94-2.06 2.06-.94-2.06-.94-.94-2.06-.94 2.06-2.06.94zm-11 1L8.5 8.5l.94-2.06 2.06-.94-2.06-.94L8.5 2.5l-.94 2.06-2.06.94zm10 10l.94 2.06.94-2.06 2.06-.94-2.06-.94-.94-2.06-.94 2.06-2.06.94z\"/><path d=\"M17.41 7.96l-1.37-1.37c-.4-.4-.92-.59-1.43-.59-.52 0-1.04.2-1.43.59L10.3 9.45l-7.72 7.72c-.78.78-.78 2.05 0 2.83L4 21.41c.39.39.9.59 1.41.59.51 0 1.02-.2 1.41-.59l7.78-7.78 2.81-2.81c.8-.78.8-2.07 0-2.86zM5.41 20L4 18.59l7.72-7.72 1.47 1.35L5.41 20z\"/>\n",
              "  </svg>\n",
              "      </button>\n",
              "      \n",
              "  <style>\n",
              "    .colab-df-container {\n",
              "      display:flex;\n",
              "      flex-wrap:wrap;\n",
              "      gap: 12px;\n",
              "    }\n",
              "\n",
              "    .colab-df-convert {\n",
              "      background-color: #E8F0FE;\n",
              "      border: none;\n",
              "      border-radius: 50%;\n",
              "      cursor: pointer;\n",
              "      display: none;\n",
              "      fill: #1967D2;\n",
              "      height: 32px;\n",
              "      padding: 0 0 0 0;\n",
              "      width: 32px;\n",
              "    }\n",
              "\n",
              "    .colab-df-convert:hover {\n",
              "      background-color: #E2EBFA;\n",
              "      box-shadow: 0px 1px 2px rgba(60, 64, 67, 0.3), 0px 1px 3px 1px rgba(60, 64, 67, 0.15);\n",
              "      fill: #174EA6;\n",
              "    }\n",
              "\n",
              "    [theme=dark] .colab-df-convert {\n",
              "      background-color: #3B4455;\n",
              "      fill: #D2E3FC;\n",
              "    }\n",
              "\n",
              "    [theme=dark] .colab-df-convert:hover {\n",
              "      background-color: #434B5C;\n",
              "      box-shadow: 0px 1px 3px 1px rgba(0, 0, 0, 0.15);\n",
              "      filter: drop-shadow(0px 1px 2px rgba(0, 0, 0, 0.3));\n",
              "      fill: #FFFFFF;\n",
              "    }\n",
              "  </style>\n",
              "\n",
              "      <script>\n",
              "        const buttonEl =\n",
              "          document.querySelector('#df-c55a5c9e-66f9-4f04-9f79-6351e706c8ad button.colab-df-convert');\n",
              "        buttonEl.style.display =\n",
              "          google.colab.kernel.accessAllowed ? 'block' : 'none';\n",
              "\n",
              "        async function convertToInteractive(key) {\n",
              "          const element = document.querySelector('#df-c55a5c9e-66f9-4f04-9f79-6351e706c8ad');\n",
              "          const dataTable =\n",
              "            await google.colab.kernel.invokeFunction('convertToInteractive',\n",
              "                                                     [key], {});\n",
              "          if (!dataTable) return;\n",
              "\n",
              "          const docLinkHtml = 'Like what you see? Visit the ' +\n",
              "            '<a target=\"_blank\" href=https://colab.research.google.com/notebooks/data_table.ipynb>data table notebook</a>'\n",
              "            + ' to learn more about interactive tables.';\n",
              "          element.innerHTML = '';\n",
              "          dataTable['output_type'] = 'display_data';\n",
              "          await google.colab.output.renderOutput(dataTable, element);\n",
              "          const docLink = document.createElement('div');\n",
              "          docLink.innerHTML = docLinkHtml;\n",
              "          element.appendChild(docLink);\n",
              "        }\n",
              "      </script>\n",
              "    </div>\n",
              "  </div>\n",
              "  "
            ]
          },
          "metadata": {},
          "execution_count": 8
        }
      ],
      "source": [
        "report = metrics.classification_report(expected_y, predicted_y, output_dict=True)\n",
        "pd.DataFrame(report).transpose()"
      ]
    },
    {
      "cell_type": "code",
      "execution_count": null,
      "id": "8c829376",
      "metadata": {
        "id": "8c829376"
      },
      "outputs": [],
      "source": [
        ""
      ]
    },
    {
      "cell_type": "code",
      "execution_count": null,
      "id": "47a9c4a8",
      "metadata": {
        "id": "47a9c4a8"
      },
      "outputs": [],
      "source": [
        "# to get the precision dictionary\n",
        "out = {}\n",
        "for i in range(0,10):\n",
        "    out.update({i:round(report[str(i)]['precision'],2)})"
      ]
    },
    {
      "cell_type": "code",
      "execution_count": null,
      "id": "ffa34670",
      "metadata": {
        "id": "ffa34670"
      },
      "outputs": [],
      "source": [
        ""
      ]
    },
    {
      "cell_type": "code",
      "execution_count": null,
      "id": "6413f7b5",
      "metadata": {
        "id": "6413f7b5"
      },
      "outputs": [],
      "source": [
        "# create df of y_pred of test set for each model\n",
        "y_pred_test = pd.concat([pd.DataFrame(lightGBM_pred_y, columns = ['LightGBM']),\n",
        "           pd.DataFrame(lda_pred_y, columns = ['LDA']), \n",
        "           pd.DataFrame(SVM_pred_y, columns = ['SVM'])],axis=1)"
      ]
    },
    {
      "cell_type": "code",
      "execution_count": null,
      "id": "0500a56e",
      "metadata": {
        "id": "0500a56e"
      },
      "outputs": [],
      "source": [
        "y_pred_test.to_csv('y_pred_test.csv')"
      ]
    },
    {
      "cell_type": "code",
      "execution_count": null,
      "id": "24b4de77",
      "metadata": {
        "id": "24b4de77"
      },
      "outputs": [],
      "source": [
        ""
      ]
    }
  ],
  "metadata": {
    "kernelspec": {
      "display_name": "Python 3 (ipykernel)",
      "language": "python",
      "name": "python3"
    },
    "language_info": {
      "codemirror_mode": {
        "name": "ipython",
        "version": 3
      },
      "file_extension": ".py",
      "mimetype": "text/x-python",
      "name": "python",
      "nbconvert_exporter": "python",
      "pygments_lexer": "ipython3",
      "version": "3.8.12"
    },
    "colab": {
      "name": "stat542_proj_no_preprocess.ipynb",
      "provenance": []
    }
  },
  "nbformat": 4,
  "nbformat_minor": 5
}